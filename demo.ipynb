{
 "cells": [
  {
   "cell_type": "code",
   "execution_count": 2,
   "metadata": {
    "collapsed": false
   },
   "outputs": [
    {
     "name": "stderr",
     "output_type": "stream",
     "text": [
      "/usr/local/lib/python3.5/site-packages/theano/configparser.py:80: DeprecationWarning: The SafeConfigParser class has been renamed to ConfigParser in Python 3.2. This alias will be removed in future versions. Use ConfigParser directly instead.\n",
      "  'PID': str(os.getpid()),\n"
     ]
    }
   ],
   "source": [
    "# Global imports\n",
    "import glob\n",
    "import random\n",
    "import matplotlib.pyplot as plt\n",
    "import json\n",
    "%matplotlib inline\n",
    "\n",
    "import seaborn\n",
    "import mpld3\n",
    "from mpld3 import plugins, fig_to_html\n",
    "import numpy as np\n",
    "import pescador\n",
    "import os\n",
    "\n",
    "seaborn.set()\n",
    "np.set_printoptions(precision=4, suppress=True)\n",
    "mpld3.enable_notebook()\n",
    "\n",
    "import biggie\n",
    "import optimus\n",
    "import datatools\n",
    "import models as M\n",
    "\n",
    "pltargs = dict(interpolation='nearest', aspect='equal', \n",
    "               cmap=plt.cm.gray_r,\n",
    "               origin='lower')"
   ]
  },
  {
   "cell_type": "code",
   "execution_count": 3,
   "metadata": {
    "collapsed": false
   },
   "outputs": [
    {
     "name": "stderr",
     "output_type": "stream",
     "text": [
      "/usr/local/lib/python3.5/site-packages/IPython/core/formatters.py:92: DeprecationWarning: DisplayFormatter._ipython_display_formatter_default is deprecated: use @default decorator instead.\n",
      "  def _ipython_display_formatter_default(self):\n",
      "/usr/local/lib/python3.5/site-packages/IPython/core/formatters.py:669: DeprecationWarning: PlainTextFormatter._singleton_printers_default is deprecated: use @default decorator instead.\n",
      "  def _singleton_printers_default(self):\n"
     ]
    },
    {
     "data": {
      "image/png": "[encoded data removed]",
      "text/html": [
       "\n",
       "\n",
       "<style>\n",
       "\n",
       "</style>\n",
       "\n",
       "<div id=\"fig_el85984565671888599146961\"></div>\n",
       "<script>\n",
       "function mpld3_load_lib(url, callback){\n",
       "  var s = document.createElement('script');\n",
       "  s.src = url;\n",
       "  s.async = true;\n",
       "  s.onreadystatechange = s.onload = callback;\n",
       "  s.onerror = function(){console.warn(\"failed to load library \" + url);};\n",
       "  document.getElementsByTagName(\"head\")[0].appendChild(s);\n",
       "}\n",
       "\n",
       "if(typeof(mpld3) !== \"undefined\" && mpld3._mpld3IsLoaded){\n",
       "   // already loaded: just create the figure\n",
       "   !function(mpld3){\n",
       "       \n",
       "       mpld3.draw_figure(\"fig_el85984565671888599146961\", {\"height\": 160.0, \"plugins\": [{\"type\": \"reset\"}, {\"button\": true, \"type\": \"zoom\", \"enabled\": false}, {\"button\": true, \"type\": \"boxzoom\", \"enabled\": false}], \"id\": \"el85984565671888\", \"width\": 800.0, \"axes\": [{\"sharex\": [], \"axes\": [{\"position\": \"bottom\", \"nticks\": 0, \"grid\": {\"gridOn\": false}, \"scale\": \"linear\", \"tickvalues\": [], \"tickformat\": \"\", \"fontsize\": null}, {\"position\": \"left\", \"nticks\": 0, \"grid\": {\"gridOn\": false}, \"scale\": \"linear\", \"tickvalues\": [], \"tickformat\": \"\", \"fontsize\": null}], \"paths\": [], \"xdomain\": [-0.5, 27.5], \"ydomain\": [-0.5, 27.5], \"xscale\": \"linear\", \"texts\": [{\"position\": [0.5, -0.04473210098965916], \"id\": \"el85984756467160\", \"h_anchor\": \"middle\", \"zorder\": 3, \"alpha\": 1, \"coordinates\": \"axes\", \"text\": \"4\", \"rotation\": -0.0, \"fontsize\": 11.0, \"v_baseline\": \"hanging\", \"color\": \"#262626\"}], \"markers\": [], \"lines\": [], \"axesbg\": \"#EAEAF2\", \"collections\": [], \"zoomable\": true, \"id\": \"el85984756577640\", \"xlim\": [-0.5, 27.5], \"bbox\": [0.029577394636015344, 0.13377394636015338, 0.15524521072796932, 0.7762260536398466], \"images\": [{\"id\": \"el85984755492704\", \"data\": \"iVBORw0KGgoAAAANSUhEUgAAAH0AAAB+CAYAAAAJFB6LAAAABHNCSVQICAgIfAhkiAAAA/BJREFUeJztnc0rPXEUh4e8FMJGSWEjCyILr1sLKZKtWLDzF1jKSrK0UNhY2HgplIVsZKfssVVkQ6QIpbH+zpnf77rNmBn38zy7czr3zsnj9P02M3emyPd93wMpitNuAJIH6YIgXRCkC4J0QZAuCNIFQbogSBcE6YIgXRCkC4J0QZAuCNIFQbogSBcE6YIgXRCkC4J0QUrSbiDLbGxsmNzi4qITd3d3m5rd3d1f6ykOmHRBkC4I0gVBuiCZ38jd3NyY3MfHhxO3tLSYmuLi6P/PnZ2dOfupra2NfJykYdIFQbogSBck82v62tqayS0tLTlxX1+fqdnZ2XHixsbGvI/d0dGR92f+Aky6IEgXBOmCIF2QzG/kpqenTe7q6sqJDw8PTc37+3vkY5eVlZlcf3+/E19fX5ua4Amc5ubmyL3ECZMuCNIFQbogmV/TKyoqTO7r68uJq6qqTE15eXnkY5eU2D9P8CTP+fm5qXl+fnZi1nRIHaQLgnRBkC5Iqhu5z89Pk1teXnbisKtsd3d3TnxwcGBqmpqaInZXuDDpgiBdEKQLkuqavr6+bnLz8/NOHHaSZW5uzolHRkbibazAYdIFQbogSBcE6YIkupELXh3b3983NcErZltbW6ZmbGws3sbyoK6uLrVjxwWTLgjSBUG6IImu6dvb2058enpqamZnZ504zfX79fXV5IaHh514dXXV1Ly9vf1aT3HApAuCdEGQLgjSBUl0I/fy8pKzZmZmJoFOwrm9vXXi4KbN8zyvtLQ05/fs7e058cDAQLTGYoZJFwTpgiBdkFTvnPF93+R6e3uduL293dT09PREPvbm5mbk7/irMOmCIF0QpAuCdEES3chNTEw4cdjPkS4uLpz48vLS1ITl8qWystLkfvKAwfr6eic+OzuL3EvSMOmCIF0QpAuS6JpeU1PjxMfHx6Ym+Ay2+/v7nDVhP306OTlx4qGhISdubW01n2lrazO5IEdHR07Mmg5/AqQLgnRBkC5I5h4eGHzQXtiD94IP5Q1jfHw8tp4KDSZdEKQLgnRBMremFwJPT09pt/BfmHRBkC4I0gVBuiBFfth9yPBPgj/NCjt5FHwjRPABxp4X/iaopGDSBUG6IEgXhJMzeVJdXe3EYW90enx8dOLgXTye53mjo6PxNpYHTLogSBcE6YIgXRA2chGZnJw0uZWVFSd+eHhIqp0fwaQLgnRBkC4Ia3pEurq6ctaEvUVyamrKicNO8vwWTLogSBcE6YIgXRA2chEZHBw0uYaGBideWFgwNUlu3IIw6YIgXRCkC8LdsIIw6YIgXRCkC4J0QZAuCNIFQbogSBcE6YIgXRCkC4J0QZAuyDfFJLFUTdVyFAAAAABJRU5ErkJggg==\", \"zorder\": 0, \"coordinates\": \"data\", \"extent\": [-0.5, 27.5, -0.5, 27.5], \"alpha\": null}], \"axesbgalpha\": null, \"sharey\": [], \"ylim\": [-0.5, 27.5], \"yscale\": \"linear\"}, {\"sharex\": [], \"axes\": [{\"position\": \"bottom\", \"nticks\": 0, \"grid\": {\"gridOn\": false}, \"scale\": \"linear\", \"tickvalues\": [], \"tickformat\": \"\", \"fontsize\": null}, {\"position\": \"left\", \"nticks\": 0, \"grid\": {\"gridOn\": false}, \"scale\": \"linear\", \"tickvalues\": [], \"tickformat\": \"\", \"fontsize\": null}], \"paths\": [], \"xdomain\": [-0.5, 27.5], \"ydomain\": [-0.5, 27.5], \"xscale\": \"linear\", \"texts\": [{\"position\": [0.5, -0.04473210098965916], \"id\": \"el85984755573000\", \"h_anchor\": \"middle\", \"zorder\": 3, \"alpha\": 1, \"coordinates\": \"axes\", \"text\": \"9\", \"rotation\": -0.0, \"fontsize\": 11.0, \"v_baseline\": \"hanging\", \"color\": \"#262626\"}], \"markers\": [], \"lines\": [], \"axesbg\": \"#EAEAF2\", \"collections\": [], \"zoomable\": true, \"id\": \"el85984756623880\", \"xlim\": [-0.5, 27.5], \"bbox\": [0.22597739463601535, 0.13377394636015338, 0.15524521072796937, 0.7762260536398466], \"images\": [{\"id\": \"el85984756352416\", \"data\": \"iVBORw0KGgoAAAANSUhEUgAAAH0AAAB+CAYAAAAJFB6LAAAABHNCSVQICAgIfAhkiAAABEZJREFUeJztnU8odFEYxu9IJIoUmYXEQhQLZcpKdqYshp2FoiQbZYkFCynJRnYsxWzUNJTVSNmQKCmlLCRLEZHyL2P7vec9mT7fzD33m+f57Z7TO3PP9OvtnK57j1A6nU57BIoC1xMg/kPpgFA6IJQOCKUDQumAUDoglA4IpQNC6YBQOiCUDgilA0LpgFA6IJQOCKUDQumAUDoglA4IpQNC6YBQOiCUDgilA0LpgBS6noBfbG9vizw0NKRqHh4eRI5EIqpmYmJC5MbGRlXT2tr6ixn6BzsdEEoHhNIBCeXDq8rX19dqbG1tTeT5+XmRX19fs3Lt0tJSNbaxsSFyLBbLyrWyBTsdEEoHhNIBoXRAAr+Rs23SksmkyDMzM6rm+flZ5MrKSpF7enrUZ7q6ukQuLy9XNYuLiyIfHR2pmnA4LPLZ2ZmqqaqqUmN+wU4HhNIBoXRAAremv7+/izwyMqJqzBsvDQ0NqmZyclLkgYEBkUtKSn41v6+vL5HHx8dVTSqVEvni4kLVhEKhX10/G7DTAaF0QCgdEEoHJHBPzqyuropsbto8z/M6OjpENp+K8bzc3fwoKJB98vb2pmrMTZrLTZsNdjoglA4IpQPidE2/u7tTY+YaXldXp2ri8bjIfv7x4vPzU+Tz83Pfrp0t2OmAUDoglA4IpQPidCN3eXmpxo6Pj0VeWlpSNfX19Tmb05/s7e2psbm5OZEPDw9Vje2VqSDBTgeE0gGhdECcrulbW1tqzPyDRq5e+729vVVj5lq8u7uraj4+PkS27S9mZ2f/bXI5hp0OCKUDQumAUDogTjdyj4+PaqyoqEjkioqKjN9je3plZ2dHZPOdcduNF9t8MtHU1KTGamtr//p7/ISdDgilA0LpgDh9rWl/f1+Nma8L2850KSyUWxHbT3h6evrx2tXV1WqsrKxM5KurK1VTXFws8snJiappaWn58dquYacDQumAUDoglA6I05sz7e3taqyvr09k8yaL53ney8tLxu82N2WDg4Mij46Oqs8sLy+LbNvI9ff3ixz0TZsNdjoglA4IpQPidE233XhJJBIir6+vq5rNzU2Re3t7VU00GhXZPNvNxv39fcaasbGxjDVBh50OCKUDQumAUDoggTs80C9ubm7UmPmfl7q7u1XNysqKyDU1NdmdmA+w0wGhdEAoHZDAnSPnF8PDw2rMfKq2s7NT1fyPa7gJOx0QSgeE0gGhdEBgNnLmI9G2p2JMzMex8wV2OiCUDgilAwKzpp+enopsW9OnpqZEbmtry+mcXMFOB4TSAaF0QCgdEJiN3MLCQsaaSCQisnmQYb6Qn7+K/AilA0LpgMCs6QcHB66nEBjY6YBQOiCUDgilAwKzkTOxHR7Y3NzsYCb+w04HhNIBoXRAYNf06elpNWY7sD8fYacDQumAUDoglA4I7JkzyLDTAaF0QCgdEEoHhNIBoXRAKB0QSgfkG+Ek4ZO/jgNxAAAAAElFTkSuQmCC\", \"zorder\": 0, \"coordinates\": \"data\", \"extent\": [-0.5, 27.5, -0.5, 27.5], \"alpha\": null}], \"axesbgalpha\": null, \"sharey\": [], \"ylim\": [-0.5, 27.5], \"yscale\": \"linear\"}, {\"sharex\": [], \"axes\": [{\"position\": \"bottom\", \"nticks\": 0, \"grid\": {\"gridOn\": false}, \"scale\": \"linear\", \"tickvalues\": [], \"tickformat\": \"\", \"fontsize\": null}, {\"position\": \"left\", \"nticks\": 0, \"grid\": {\"gridOn\": false}, \"scale\": \"linear\", \"tickvalues\": [], \"tickformat\": \"\", \"fontsize\": null}], \"paths\": [], \"xdomain\": [-0.5, 27.5], \"ydomain\": [-0.5, 27.5], \"xscale\": \"linear\", \"texts\": [{\"position\": [0.5, -0.04473210098965916], \"id\": \"el85984756408136\", \"h_anchor\": \"middle\", \"zorder\": 3, \"alpha\": 1, \"coordinates\": \"axes\", \"text\": \"8\", \"rotation\": -0.0, \"fontsize\": 11.0, \"v_baseline\": \"hanging\", \"color\": \"#262626\"}], \"markers\": [], \"lines\": [], \"axesbg\": \"#EAEAF2\", \"collections\": [], \"zoomable\": true, \"id\": \"el85984756215008\", \"xlim\": [-0.5, 27.5], \"bbox\": [0.42237739463601537, 0.13377394636015338, 0.15524521072796943, 0.7762260536398466], \"images\": [{\"id\": \"el85984756697496\", \"data\": \"iVBORw0KGgoAAAANSUhEUgAAAH0AAAB+CAYAAAAJFB6LAAAABHNCSVQICAgIfAhkiAAABCtJREFUeJztnUEodFEYhmf+JKIUU2RBykoSNrKlWLKchdhajNiQUKwIYSfKYkqyw9Q0pWyVlVhQlAVRirIRIs2//PvOd/7uZK6Zc+d9n917OufOqaevezrnuMLpdDodIlD8yfcESO6hdEAoHRBKB4TSAaF0QCgdEEoHhNIBoXRAKB0QSgeE0gGhdEAoHRBKB4TSAaF0QCgdEEoHhNIBKcr3BFzGdlH49PRU5FgspvpEo1GRR0dH/Z1YlrDSAaF0QCgdEEoHBHYh9/HxodpSqZTIa2trqs/x8bHns82FnGuw0gGhdEAoHRCYd/rV1ZXIY2Njqs/h4aHIts2Z6upqkb+/v1WflpaWn0wxZ7DSAaF0QCgdEEoHJFyo35y5vr4Wube3V+Tb21vPZwwODqq2qakpkSsrK1WfSCSSyRTzBisdEEoHhNIBKYjNmZWVFdU2Ozsr8tvbm+dz1tfXRR4eHs5uYo7CSgeE0gGhdEAoHZBALuQGBgZE3tnZ8RxjbqKsrq6qPkNDQ9lN7D/c3Nyoto2NDZGXl5d/5bdtsNIBoXRAKB0Q5w9czs7OVFtHR4fIn5+fqk9jY6PIm5ubInd1dfkwO/tvm2uM6elp1ef9/V3kl5cXX+aTCax0QCgdEEoHhNIBcX5zxlyQhUKhUElJici2xZR58ubXws28cWO7Sp1IJDyfY97kySWsdEAoHRBKB8T5d3p5eblqa2pqEvnk5ET1MW+9lJWVidzd3a3GPD8/izw3N6f67O7uipzJpsrCwoJqGxkZ8Rz3W7DSAaF0QCgdEEoHxPlTNhtfX18i19fXqz6Pj48iV1VViTw5OanGbG9vi3x+fq76hMNhkfv7+1WfmZkZkdva2jyfk0tY6YBQOiCUDkgg3+kmd3d3qs3cEDFvn/4U84DFtoFTUVHhy2/9Fqx0QCgdEEoHhNIBKYiFnI3Ly0uRm5ubPceYJ3Hz8/OqTz5Px/yClQ4IpQNC6YAUxDv9/v5etXV2dor88PDg+Rzz8GRvby+7iTkKKx0QSgeE0gGhdECcvwKdCe3t7arNvM5M/sFKB4TSAaF0QAL5Tt/a2hL56elJ9TH/HGpiYkLkpaUl/ycWEFjpgFA6IJQOCKUDEsiF3Pj4uMjFxcWqz8HBgchHR0civ76+qjF9fX0+zM59WOmAUDoglA5IIN/pJqWlpart4uJC5MXFRZHr6urUGL++Nec6rHRAKB0QSgeE0gFx/gq07QZMQ0ODyLaNFvObLjU1NSLH43E1pqen5wczDB6sdEAoHRBKB8T5zZlIJKLaioq8p93a2ipyMpkUuba2NruJBRhWOiCUDgilA0LpgDi/kLOxv78vsu0/H8ViMZGRF24mrHRAKB0QSgfE+QMX4j+sdEAoHRBKB4TSAaF0QCgdEEoHhNIBoXRAKB0QSgeE0gGhdED+AmCW5xV0mP6tAAAAAElFTkSuQmCC\", \"zorder\": 0, \"coordinates\": \"data\", \"extent\": [-0.5, 27.5, -0.5, 27.5], \"alpha\": null}], \"axesbgalpha\": null, \"sharey\": [], \"ylim\": [-0.5, 27.5], \"yscale\": \"linear\"}, {\"sharex\": [], \"axes\": [{\"position\": \"bottom\", \"nticks\": 0, \"grid\": {\"gridOn\": false}, \"scale\": \"linear\", \"tickvalues\": [], \"tickformat\": \"\", \"fontsize\": null}, {\"position\": \"left\", \"nticks\": 0, \"grid\": {\"gridOn\": false}, \"scale\": \"linear\", \"tickvalues\": [], \"tickformat\": \"\", \"fontsize\": null}], \"paths\": [], \"xdomain\": [-0.5, 27.5], \"ydomain\": [-0.5, 27.5], \"xscale\": \"linear\", \"texts\": [{\"position\": [0.5, -0.04473210098965916], \"id\": \"el85984756901672\", \"h_anchor\": \"middle\", \"zorder\": 3, \"alpha\": 1, \"coordinates\": \"axes\", \"text\": \"7\", \"rotation\": -0.0, \"fontsize\": 11.0, \"v_baseline\": \"hanging\", \"color\": \"#262626\"}], \"markers\": [], \"lines\": [], \"axesbg\": \"#EAEAF2\", \"collections\": [], \"zoomable\": true, \"id\": \"el85984756731272\", \"xlim\": [-0.5, 27.5], \"bbox\": [0.6187773946360153, 0.13377394636015338, 0.15524521072796937, 0.7762260536398466], \"images\": [{\"id\": \"el85984757210840\", \"data\": \"iVBORw0KGgoAAAANSUhEUgAAAH0AAAB+CAYAAAAJFB6LAAAABHNCSVQICAgIfAhkiAAAA5NJREFUeJztnU8rdGEYh2f0RvJnxUoWrCwmsRDKSsrCZsxy1hbyCfgAPoCVsrK18AVGlIWSjZSNUshCaqJIJBpb97knM+84c+Zxrt+1+92dZ9x1dfc8HWfOZCuVSiUjULS1ugGRPJIORNKBSDoQSQci6UAkHYikA5F0IJIORNKBSDoQSQci6UAkHYikA5F0IJIORNKBSDoQSQci6UAkHYikA5F0IJIORNKBSDoQSQci6UD+tbqBkHh+fjZ5c3PTXbO/v29yqVRy1xQKBZN3d3dj6C4+NOlAJB2IpAORdCDBHeQODg5Mvrm5acrf2dracrWLiwuTHx8fG/rstrawZyns7kRTkHQgkg6kpXv62dmZqy0uLpr89PSUVDsYNOlAJB2IpAORdCAtPcgNDQ252vj4uMmHh4dN+dsjIyOu1tnZafLp6WlDn728vNzQuqTQpAORdCCSDiQb2kv+j4+PTb66unLXHB0dmdze3u6uGR0dNbm3t9fkmZkZt+bu7s7ksbGxn5vNZDLz8/OuFn1Spqurq+bnJIkmHYikA5F0IJIOJLiDXFLc3t662uzsrMmXl5c1P2dvb8/V5ubmGm8sATTpQCQdiKQDCe5p2KQol8uuVs8eHmVycjKOdhJFkw5E0oFIOhBJB4I9yK2trcWyrru7O452EkWTDkTSgUg6EMyevrGxYXI9T9lOTU252urqqsnZbPZ3jbUATToQSQci6UAkHQjmILe9vW3y29tbzTXFYtHVoo9S/0U06UAkHYikA0ntnv7w8GDy6+trzTX9/f0m5/P5WHsKBU06EEkHIulAJB1Iag9yOzs7Jkdf9lvtO+0rKysmDw4Oxt9YAGjSgUg6EEkHkoqvKn9+frpadD+u530yjb437q+hSQci6UAkHYikA0nFzZmTkxNXe3l5+XHN/f29q52fn5ucy+V+11igaNKBSDoQSQeSij19enra1Xp6ekyO/urTx8eHW1PP0zVpQJMORNKBSDoQSQeSioNc9CtLmUz1my/fGRgYcLWJiYm4WgoaTToQSQci6UBSsaevr6+7WrWbL98ZHh5uVjvBo0kHIulAJB2IpANJxSPQHR0drvb+/m5y9Ce6S6WSW9PX1xdvY4GiSQci6UAkHUgqbs7UQ/R9MpT9uxqadCCSDkTSgUg6kFQc5BYWFlzt+vra5KWlpYS6CR9NOhBJByLpQFLxDxfxf2jSgUg6EEkHIulAvgDkWqvVglKH5QAAAABJRU5ErkJggg==\", \"zorder\": 0, \"coordinates\": \"data\", \"extent\": [-0.5, 27.5, -0.5, 27.5], \"alpha\": null}], \"axesbgalpha\": null, \"sharey\": [], \"ylim\": [-0.5, 27.5], \"yscale\": \"linear\"}, {\"sharex\": [], \"axes\": [{\"position\": \"bottom\", \"nticks\": 0, \"grid\": {\"gridOn\": false}, \"scale\": \"linear\", \"tickvalues\": [], \"tickformat\": \"\", \"fontsize\": null}, {\"position\": \"left\", \"nticks\": 0, \"grid\": {\"gridOn\": false}, \"scale\": \"linear\", \"tickvalues\": [], \"tickformat\": \"\", \"fontsize\": null}], \"paths\": [], \"xdomain\": [-0.5, 27.5], \"ydomain\": [-0.5, 27.5], \"xscale\": \"linear\", \"texts\": [{\"position\": [0.5, -0.04473210098965916], \"id\": \"el85984757254272\", \"h_anchor\": \"middle\", \"zorder\": 3, \"alpha\": 1, \"coordinates\": \"axes\", \"text\": \"0\", \"rotation\": -0.0, \"fontsize\": 11.0, \"v_baseline\": \"hanging\", \"color\": \"#262626\"}], \"markers\": [], \"lines\": [], \"axesbg\": \"#EAEAF2\", \"collections\": [], \"zoomable\": true, \"id\": \"el85984757002168\", \"xlim\": [-0.5, 27.5], \"bbox\": [0.8151773946360155, 0.13377394636015338, 0.15524521072796937, 0.7762260536398466], \"images\": [{\"id\": \"el85984757538632\", \"data\": \"iVBORw0KGgoAAAANSUhEUgAAAH0AAAB+CAYAAAAJFB6LAAAABHNCSVQICAgIfAhkiAAABSBJREFUeJztnUsodV0Yx/f5+mJAKCIlZjIhlwxILhOKXEJhoIQhMaFMKAMDMqAMXMoIyQBFKaWkFCPKCKVwcilySwZH3sk7+J61Vu19zrvP5f3+/9/sv3r22s85/57Waq+19vb8/Pz8WASKf8KdAAk9NB0Qmg4ITQeEpgNC0wGh6YDQdEBoOiA0HRCaDghNB4SmA0LTAaHpgNB0QGg6IDQdEJoOCE0HhKYD8m+4E3CD+fl5re3j40Po19dXoUdHR7Vr1I3BIyMjWkxWVpbQra2tjvOMFFjpgNB0QGg6IDQdEE+kH2s6OTnR2urq6oR+eHjQYnw+n9/3Uv8Kj8ejxURFRQmdnJysxdTX1wvd2dmpxeTm5vqdn1uw0gGh6YDQdEAibkw/Pj4WuqmpSYvxer1Cm8ZelejoaKELCgq0GCdj+tnZmdBvb2+2905JSdHaNjc3hS4sLLTtxy1Y6YDQdEBoOiA0HZCwTuTOz8+1tsrKSqFvbm60GDXl2NhYLSY/P1/owcFBoaurqx3n+V8WFxeFNq3Wvby8CK2u8FmWZaWnpwu9tramxQRrcsdKB4SmA0LTAQnrmD40NKS1jY+P216npry0tKTFtLW1BZ7YH7K/vy90RUWFFqM++CkuLtZiDg4O3E3sN6x0QGg6IDQdEJoOSEgncr29vULPzMwE1M/6+rrQ6k6VSEOd2FmWvvvn/f1di+np6RF6enralXxY6YDQdEBoOiAhHdMzMjKEvr29tb1meHhYazMdN/rbcPJfqIsyV1dXrtyblQ4ITQeEpgNC0wGJuPPp6lZl9Tw4El9fX0Lf3d1pMampqX73y0oHhKYDQtMBCdqYvrW1pbU9Pz/bXjcwMCB0S0uLazmFC9Niyvf3t+11j4+PQq+urmox/f39fufDSgeEpgNC0wGh6YAEbSJ3cXGhtX1+ftpel52dHYx0wsrCwoLWZnrQopKQkCB0aWmpK/mw0gGh6YDQdECCNqabNuSobaajPM3NzcFKKWSou19Nu2GdbFhSj2Crx68DhZUOCE0HhKYDQtMBCdpEzvTiPbXNyUv/Ih3TA6fJyUmhTSuO6m9PSkrSYubm5v4wOzOsdEBoOiA0HZCw7oY17Sh5enoSOjExMVTpOELN2bRzZXt72+9+MzMztbaqqiq/+3ECKx0Qmg4ITQeEpgMStPPpppf9lpSUCK1O2ixLfyDR1dXlbmJ+YHrwsru7K3RjY6NtP6a/WF1BM71PpqOjw7bvQGClA0LTAaHpgETcO2fi4uKE3tjY0GLKysps7zU1NSX09fW17TXqQkl7e7sWs7y8bNuPiukvVo9rrays+N1voLDSAaHpgNB0QGg6ICGdyKmfxTZ9Men+/l7ohoYGLaavr09o08SuqKhI6KOjI9v8nHx2MxDy8vK0tr29PaHj4+NduZcTWOmA0HRAaDogYf1a087OjtZWU1Nje526WKE+VLEsy7q8vBR6YmLCtt9AxvSYmBitbXZ2VmjT3CWUY7gKKx0Qmg4ITQeEpgMS1omcaQv04eGh0N3d3VqM1+sV2q2HKE4mcrW1tUKbvjJhehgTSbDSAaHpgNB0QMI6pjvh9PRUa1O/Xqgu0liWZfl8Pr/vlZaWJrTpS1HqAlCkHbtyAisdEJoOCE0HhKYDEvETOSeYXrg7NjYmdHl5udA5OTnaNYF8JeFvhJUOCE0HhKYD8r8Y04l/sNIBoemA0HRAaDogNB0Qmg4ITQeEpgNC0wGh6YDQdEBoOiA0HZBfACll2Jcnz00AAAAASUVORK5CYII=\", \"zorder\": 0, \"coordinates\": \"data\", \"extent\": [-0.5, 27.5, -0.5, 27.5], \"alpha\": null}], \"axesbgalpha\": null, \"sharey\": [], \"ylim\": [-0.5, 27.5], \"yscale\": \"linear\"}], \"data\": {}});\n",
       "   }(mpld3);\n",
       "}else if(typeof define === \"function\" && define.amd){\n",
       "   // require.js is available: use it to load d3/mpld3\n",
       "   require.config({paths: {d3: \"https://mpld3.github.io/js/d3.v3.min\"}});\n",
       "   require([\"d3\"], function(d3){\n",
       "      window.d3 = d3;\n",
       "      mpld3_load_lib(\"https://mpld3.github.io/js/mpld3.v0.2.js\", function(){\n",
       "         \n",
       "         mpld3.draw_figure(\"fig_el85984565671888599146961\", {\"height\": 160.0, \"plugins\": [{\"type\": \"reset\"}, {\"button\": true, \"type\": \"zoom\", \"enabled\": false}, {\"button\": true, \"type\": \"boxzoom\", \"enabled\": false}], \"id\": \"el85984565671888\", \"width\": 800.0, \"axes\": [{\"sharex\": [], \"axes\": [{\"position\": \"bottom\", \"nticks\": 0, \"grid\": {\"gridOn\": false}, \"scale\": \"linear\", \"tickvalues\": [], \"tickformat\": \"\", \"fontsize\": null}, {\"position\": \"left\", \"nticks\": 0, \"grid\": {\"gridOn\": false}, \"scale\": \"linear\", \"tickvalues\": [], \"tickformat\": \"\", \"fontsize\": null}], \"paths\": [], \"xdomain\": [-0.5, 27.5], \"ydomain\": [-0.5, 27.5], \"xscale\": \"linear\", \"texts\": [{\"position\": [0.5, -0.04473210098965916], \"id\": \"el85984756467160\", \"h_anchor\": \"middle\", \"zorder\": 3, \"alpha\": 1, \"coordinates\": \"axes\", \"text\": \"4\", \"rotation\": -0.0, \"fontsize\": 11.0, \"v_baseline\": \"hanging\", \"color\": \"#262626\"}], \"markers\": [], \"lines\": [], \"axesbg\": \"#EAEAF2\", \"collections\": [], \"zoomable\": true, \"id\": \"el85984756577640\", \"xlim\": [-0.5, 27.5], \"bbox\": [0.029577394636015344, 0.13377394636015338, 0.15524521072796932, 0.7762260536398466], \"images\": [{\"id\": \"el85984755492704\", \"data\": \"iVBORw0KGgoAAAANSUhEUgAAAH0AAAB+CAYAAAAJFB6LAAAABHNCSVQICAgIfAhkiAAAA/BJREFUeJztnc0rPXEUh4e8FMJGSWEjCyILr1sLKZKtWLDzF1jKSrK0UNhY2HgplIVsZKfssVVkQ6QIpbH+zpnf77rNmBn38zy7czr3zsnj9P02M3emyPd93wMpitNuAJIH6YIgXRCkC4J0QZAuCNIFQbogSBcE6YIgXRCkC4J0QZAuCNIFQbogSBcE6YIgXRCkC4J0QUrSbiDLbGxsmNzi4qITd3d3m5rd3d1f6ykOmHRBkC4I0gVBuiCZ38jd3NyY3MfHhxO3tLSYmuLi6P/PnZ2dOfupra2NfJykYdIFQbogSBck82v62tqayS0tLTlxX1+fqdnZ2XHixsbGvI/d0dGR92f+Aky6IEgXBOmCIF2QzG/kpqenTe7q6sqJDw8PTc37+3vkY5eVlZlcf3+/E19fX5ua4Amc5ubmyL3ECZMuCNIFQbogmV/TKyoqTO7r68uJq6qqTE15eXnkY5eU2D9P8CTP+fm5qXl+fnZi1nRIHaQLgnRBkC5Iqhu5z89Pk1teXnbisKtsd3d3TnxwcGBqmpqaInZXuDDpgiBdEKQLkuqavr6+bnLz8/NOHHaSZW5uzolHRkbibazAYdIFQbogSBcE6YIkupELXh3b3983NcErZltbW6ZmbGws3sbyoK6uLrVjxwWTLgjSBUG6IImu6dvb2058enpqamZnZ504zfX79fXV5IaHh514dXXV1Ly9vf1aT3HApAuCdEGQLgjSBUl0I/fy8pKzZmZmJoFOwrm9vXXi4KbN8zyvtLQ05/fs7e058cDAQLTGYoZJFwTpgiBdkFTvnPF93+R6e3uduL293dT09PREPvbm5mbk7/irMOmCIF0QpAuCdEES3chNTEw4cdjPkS4uLpz48vLS1ITl8qWystLkfvKAwfr6eic+OzuL3EvSMOmCIF0QpAuS6JpeU1PjxMfHx6Ym+Ay2+/v7nDVhP306OTlx4qGhISdubW01n2lrazO5IEdHR07Mmg5/AqQLgnRBkC5I5h4eGHzQXtiD94IP5Q1jfHw8tp4KDSZdEKQLgnRBMremFwJPT09pt/BfmHRBkC4I0gVBuiBFfth9yPBPgj/NCjt5FHwjRPABxp4X/iaopGDSBUG6IEgXhJMzeVJdXe3EYW90enx8dOLgXTye53mjo6PxNpYHTLogSBcE6YIgXRA2chGZnJw0uZWVFSd+eHhIqp0fwaQLgnRBkC4Ia3pEurq6ctaEvUVyamrKicNO8vwWTLogSBcE6YIgXRA2chEZHBw0uYaGBideWFgwNUlu3IIw6YIgXRCkC8LdsIIw6YIgXRCkC4J0QZAuCNIFQbogSBcE6YIgXRCkC4J0QZAuyDfFJLFUTdVyFAAAAABJRU5ErkJggg==\", \"zorder\": 0, \"coordinates\": \"data\", \"extent\": [-0.5, 27.5, -0.5, 27.5], \"alpha\": null}], \"axesbgalpha\": null, \"sharey\": [], \"ylim\": [-0.5, 27.5], \"yscale\": \"linear\"}, {\"sharex\": [], \"axes\": [{\"position\": \"bottom\", \"nticks\": 0, \"grid\": {\"gridOn\": false}, \"scale\": \"linear\", \"tickvalues\": [], \"tickformat\": \"\", \"fontsize\": null}, {\"position\": \"left\", \"nticks\": 0, \"grid\": {\"gridOn\": false}, \"scale\": \"linear\", \"tickvalues\": [], \"tickformat\": \"\", \"fontsize\": null}], \"paths\": [], \"xdomain\": [-0.5, 27.5], \"ydomain\": [-0.5, 27.5], \"xscale\": \"linear\", \"texts\": [{\"position\": [0.5, -0.04473210098965916], \"id\": \"el85984755573000\", \"h_anchor\": \"middle\", \"zorder\": 3, \"alpha\": 1, \"coordinates\": \"axes\", \"text\": \"9\", \"rotation\": -0.0, \"fontsize\": 11.0, \"v_baseline\": \"hanging\", \"color\": \"#262626\"}], \"markers\": [], \"lines\": [], \"axesbg\": \"#EAEAF2\", \"collections\": [], \"zoomable\": true, \"id\": \"el85984756623880\", \"xlim\": [-0.5, 27.5], \"bbox\": [0.22597739463601535, 0.13377394636015338, 0.15524521072796937, 0.7762260536398466], \"images\": [{\"id\": \"el85984756352416\", \"data\": \"iVBORw0KGgoAAAANSUhEUgAAAH0AAAB+CAYAAAAJFB6LAAAABHNCSVQICAgIfAhkiAAABEZJREFUeJztnU8odFEYxu9IJIoUmYXEQhQLZcpKdqYshp2FoiQbZYkFCynJRnYsxWzUNJTVSNmQKCmlLCRLEZHyL2P7vec9mT7fzD33m+f57Z7TO3PP9OvtnK57j1A6nU57BIoC1xMg/kPpgFA6IJQOCKUDQumAUDoglA4IpQNC6YBQOiCUDgilA0LpgFA6IJQOCKUDQumAUDoglA4IpQNC6YBQOiCUDgilA0LpgBS6noBfbG9vizw0NKRqHh4eRI5EIqpmYmJC5MbGRlXT2tr6ixn6BzsdEEoHhNIBCeXDq8rX19dqbG1tTeT5+XmRX19fs3Lt0tJSNbaxsSFyLBbLyrWyBTsdEEoHhNIBoXRAAr+Rs23SksmkyDMzM6rm+flZ5MrKSpF7enrUZ7q6ukQuLy9XNYuLiyIfHR2pmnA4LPLZ2ZmqqaqqUmN+wU4HhNIBoXRAAremv7+/izwyMqJqzBsvDQ0NqmZyclLkgYEBkUtKSn41v6+vL5HHx8dVTSqVEvni4kLVhEKhX10/G7DTAaF0QCgdEEoHJHBPzqyuropsbto8z/M6OjpENp+K8bzc3fwoKJB98vb2pmrMTZrLTZsNdjoglA4IpQPidE2/u7tTY+YaXldXp2ri8bjIfv7x4vPzU+Tz83Pfrp0t2OmAUDoglA4IpQPidCN3eXmpxo6Pj0VeWlpSNfX19Tmb05/s7e2psbm5OZEPDw9Vje2VqSDBTgeE0gGhdECcrulbW1tqzPyDRq5e+729vVVj5lq8u7uraj4+PkS27S9mZ2f/bXI5hp0OCKUDQumAUDogTjdyj4+PaqyoqEjkioqKjN9je3plZ2dHZPOdcduNF9t8MtHU1KTGamtr//p7/ISdDgilA0LpgDh9rWl/f1+Nma8L2850KSyUWxHbT3h6evrx2tXV1WqsrKxM5KurK1VTXFws8snJiappaWn58dquYacDQumAUDoglA6I05sz7e3taqyvr09k8yaL53ney8tLxu82N2WDg4Mij46Oqs8sLy+LbNvI9ff3ixz0TZsNdjoglA4IpQPidE233XhJJBIir6+vq5rNzU2Re3t7VU00GhXZPNvNxv39fcaasbGxjDVBh50OCKUDQumAUDoggTs80C9ubm7UmPmfl7q7u1XNysqKyDU1NdmdmA+w0wGhdEAoHZDAnSPnF8PDw2rMfKq2s7NT1fyPa7gJOx0QSgeE0gGhdEBgNnLmI9G2p2JMzMex8wV2OiCUDgilAwKzpp+enopsW9OnpqZEbmtry+mcXMFOB4TSAaF0QCgdEJiN3MLCQsaaSCQisnmQYb6Qn7+K/AilA0LpgMCs6QcHB66nEBjY6YBQOiCUDgilAwKzkTOxHR7Y3NzsYCb+w04HhNIBoXRAYNf06elpNWY7sD8fYacDQumAUDoglA4I7JkzyLDTAaF0QCgdEEoHhNIBoXRAKB0QSgfkG+Ek4ZO/jgNxAAAAAElFTkSuQmCC\", \"zorder\": 0, \"coordinates\": \"data\", \"extent\": [-0.5, 27.5, -0.5, 27.5], \"alpha\": null}], \"axesbgalpha\": null, \"sharey\": [], \"ylim\": [-0.5, 27.5], \"yscale\": \"linear\"}, {\"sharex\": [], \"axes\": [{\"position\": \"bottom\", \"nticks\": 0, \"grid\": {\"gridOn\": false}, \"scale\": \"linear\", \"tickvalues\": [], \"tickformat\": \"\", \"fontsize\": null}, {\"position\": \"left\", \"nticks\": 0, \"grid\": {\"gridOn\": false}, \"scale\": \"linear\", \"tickvalues\": [], \"tickformat\": \"\", \"fontsize\": null}], \"paths\": [], \"xdomain\": [-0.5, 27.5], \"ydomain\": [-0.5, 27.5], \"xscale\": \"linear\", \"texts\": [{\"position\": [0.5, -0.04473210098965916], \"id\": \"el85984756408136\", \"h_anchor\": \"middle\", \"zorder\": 3, \"alpha\": 1, \"coordinates\": \"axes\", \"text\": \"8\", \"rotation\": -0.0, \"fontsize\": 11.0, \"v_baseline\": \"hanging\", \"color\": \"#262626\"}], \"markers\": [], \"lines\": [], \"axesbg\": \"#EAEAF2\", \"collections\": [], \"zoomable\": true, \"id\": \"el85984756215008\", \"xlim\": [-0.5, 27.5], \"bbox\": [0.42237739463601537, 0.13377394636015338, 0.15524521072796943, 0.7762260536398466], \"images\": [{\"id\": \"el85984756697496\", \"data\": \"iVBORw0KGgoAAAANSUhEUgAAAH0AAAB+CAYAAAAJFB6LAAAABHNCSVQICAgIfAhkiAAABCtJREFUeJztnUEodFEYhmf+JKIUU2RBykoSNrKlWLKchdhajNiQUKwIYSfKYkqyw9Q0pWyVlVhQlAVRirIRIs2//PvOd/7uZK6Zc+d9n917OufOqaevezrnuMLpdDodIlD8yfcESO6hdEAoHRBKB4TSAaF0QCgdEEoHhNIBoXRAKB0QSgeE0gGhdEAoHRBKB4TSAaF0QCgdEEoHhNIBKcr3BFzGdlH49PRU5FgspvpEo1GRR0dH/Z1YlrDSAaF0QCgdEEoHBHYh9/HxodpSqZTIa2trqs/x8bHns82FnGuw0gGhdEAoHRCYd/rV1ZXIY2Njqs/h4aHIts2Z6upqkb+/v1WflpaWn0wxZ7DSAaF0QCgdEEoHJFyo35y5vr4Wube3V+Tb21vPZwwODqq2qakpkSsrK1WfSCSSyRTzBisdEEoHhNIBKYjNmZWVFdU2Ozsr8tvbm+dz1tfXRR4eHs5uYo7CSgeE0gGhdEAoHZBALuQGBgZE3tnZ8RxjbqKsrq6qPkNDQ9lN7D/c3Nyoto2NDZGXl5d/5bdtsNIBoXRAKB0Q5w9czs7OVFtHR4fIn5+fqk9jY6PIm5ubInd1dfkwO/tvm2uM6elp1ef9/V3kl5cXX+aTCax0QCgdEEoHhNIBcX5zxlyQhUKhUElJici2xZR58ubXws28cWO7Sp1IJDyfY97kySWsdEAoHRBKB8T5d3p5eblqa2pqEvnk5ET1MW+9lJWVidzd3a3GPD8/izw3N6f67O7uipzJpsrCwoJqGxkZ8Rz3W7DSAaF0QCgdEEoHxPlTNhtfX18i19fXqz6Pj48iV1VViTw5OanGbG9vi3x+fq76hMNhkfv7+1WfmZkZkdva2jyfk0tY6YBQOiCUDkgg3+kmd3d3qs3cEDFvn/4U84DFtoFTUVHhy2/9Fqx0QCgdEEoHhNIBKYiFnI3Ly0uRm5ubPceYJ3Hz8/OqTz5Px/yClQ4IpQNC6YAUxDv9/v5etXV2dor88PDg+Rzz8GRvby+7iTkKKx0QSgeE0gGhdECcvwKdCe3t7arNvM5M/sFKB4TSAaF0QAL5Tt/a2hL56elJ9TH/HGpiYkLkpaUl/ycWEFjpgFA6IJQOCKUDEsiF3Pj4uMjFxcWqz8HBgchHR0civ76+qjF9fX0+zM59WOmAUDoglA5IIN/pJqWlpart4uJC5MXFRZHr6urUGL++Nec6rHRAKB0QSgeE0gFx/gq07QZMQ0ODyLaNFvObLjU1NSLH43E1pqen5wczDB6sdEAoHRBKB8T5zZlIJKLaioq8p93a2ipyMpkUuba2NruJBRhWOiCUDgilA0LpgDi/kLOxv78vsu0/H8ViMZGRF24mrHRAKB0QSgfE+QMX4j+sdEAoHRBKB4TSAaF0QCgdEEoHhNIBoXRAKB0QSgeE0gGhdED+AmCW5xV0mP6tAAAAAElFTkSuQmCC\", \"zorder\": 0, \"coordinates\": \"data\", \"extent\": [-0.5, 27.5, -0.5, 27.5], \"alpha\": null}], \"axesbgalpha\": null, \"sharey\": [], \"ylim\": [-0.5, 27.5], \"yscale\": \"linear\"}, {\"sharex\": [], \"axes\": [{\"position\": \"bottom\", \"nticks\": 0, \"grid\": {\"gridOn\": false}, \"scale\": \"linear\", \"tickvalues\": [], \"tickformat\": \"\", \"fontsize\": null}, {\"position\": \"left\", \"nticks\": 0, \"grid\": {\"gridOn\": false}, \"scale\": \"linear\", \"tickvalues\": [], \"tickformat\": \"\", \"fontsize\": null}], \"paths\": [], \"xdomain\": [-0.5, 27.5], \"ydomain\": [-0.5, 27.5], \"xscale\": \"linear\", \"texts\": [{\"position\": [0.5, -0.04473210098965916], \"id\": \"el85984756901672\", \"h_anchor\": \"middle\", \"zorder\": 3, \"alpha\": 1, \"coordinates\": \"axes\", \"text\": \"7\", \"rotation\": -0.0, \"fontsize\": 11.0, \"v_baseline\": \"hanging\", \"color\": \"#262626\"}], \"markers\": [], \"lines\": [], \"axesbg\": \"#EAEAF2\", \"collections\": [], \"zoomable\": true, \"id\": \"el85984756731272\", \"xlim\": [-0.5, 27.5], \"bbox\": [0.6187773946360153, 0.13377394636015338, 0.15524521072796937, 0.7762260536398466], \"images\": [{\"id\": \"el85984757210840\", \"data\": \"iVBORw0KGgoAAAANSUhEUgAAAH0AAAB+CAYAAAAJFB6LAAAABHNCSVQICAgIfAhkiAAAA5NJREFUeJztnU8rdGEYh2f0RvJnxUoWrCwmsRDKSsrCZsxy1hbyCfgAPoCVsrK18AVGlIWSjZSNUshCaqJIJBpb97knM+84c+Zxrt+1+92dZ9x1dfc8HWfOZCuVSiUjULS1ugGRPJIORNKBSDoQSQci6UAkHYikA5F0IJIORNKBSDoQSQci6UAkHYikA5F0IJIORNKBSDoQSQci6UAkHYikA5F0IJIORNKBSDoQSQci6UD+tbqBkHh+fjZ5c3PTXbO/v29yqVRy1xQKBZN3d3dj6C4+NOlAJB2IpAORdCDBHeQODg5Mvrm5acrf2dracrWLiwuTHx8fG/rstrawZyns7kRTkHQgkg6kpXv62dmZqy0uLpr89PSUVDsYNOlAJB2IpAORdCAtPcgNDQ252vj4uMmHh4dN+dsjIyOu1tnZafLp6WlDn728vNzQuqTQpAORdCCSDiQb2kv+j4+PTb66unLXHB0dmdze3u6uGR0dNbm3t9fkmZkZt+bu7s7ksbGxn5vNZDLz8/OuFn1Spqurq+bnJIkmHYikA5F0IJIOJLiDXFLc3t662uzsrMmXl5c1P2dvb8/V5ubmGm8sATTpQCQdiKQDCe5p2KQol8uuVs8eHmVycjKOdhJFkw5E0oFIOhBJB4I9yK2trcWyrru7O452EkWTDkTSgUg6EMyevrGxYXI9T9lOTU252urqqsnZbPZ3jbUATToQSQci6UAkHQjmILe9vW3y29tbzTXFYtHVoo9S/0U06UAkHYikA0ntnv7w8GDy6+trzTX9/f0m5/P5WHsKBU06EEkHIulAJB1Iag9yOzs7Jkdf9lvtO+0rKysmDw4Oxt9YAGjSgUg6EEkHkoqvKn9+frpadD+u530yjb437q+hSQci6UAkHYikA0nFzZmTkxNXe3l5+XHN/f29q52fn5ucy+V+11igaNKBSDoQSQeSij19enra1Xp6ekyO/urTx8eHW1PP0zVpQJMORNKBSDoQSQeSioNc9CtLmUz1my/fGRgYcLWJiYm4WgoaTToQSQci6UBSsaevr6+7WrWbL98ZHh5uVjvBo0kHIulAJB2IpANJxSPQHR0drvb+/m5y9Ce6S6WSW9PX1xdvY4GiSQci6UAkHUgqbs7UQ/R9MpT9uxqadCCSDkTSgUg6kFQc5BYWFlzt+vra5KWlpYS6CR9NOhBJByLpQFLxDxfxf2jSgUg6EEkHIulAvgDkWqvVglKH5QAAAABJRU5ErkJggg==\", \"zorder\": 0, \"coordinates\": \"data\", \"extent\": [-0.5, 27.5, -0.5, 27.5], \"alpha\": null}], \"axesbgalpha\": null, \"sharey\": [], \"ylim\": [-0.5, 27.5], \"yscale\": \"linear\"}, {\"sharex\": [], \"axes\": [{\"position\": \"bottom\", \"nticks\": 0, \"grid\": {\"gridOn\": false}, \"scale\": \"linear\", \"tickvalues\": [], \"tickformat\": \"\", \"fontsize\": null}, {\"position\": \"left\", \"nticks\": 0, \"grid\": {\"gridOn\": false}, \"scale\": \"linear\", \"tickvalues\": [], \"tickformat\": \"\", \"fontsize\": null}], \"paths\": [], \"xdomain\": [-0.5, 27.5], \"ydomain\": [-0.5, 27.5], \"xscale\": \"linear\", \"texts\": [{\"position\": [0.5, -0.04473210098965916], \"id\": \"el85984757254272\", \"h_anchor\": \"middle\", \"zorder\": 3, \"alpha\": 1, \"coordinates\": \"axes\", \"text\": \"0\", \"rotation\": -0.0, \"fontsize\": 11.0, \"v_baseline\": \"hanging\", \"color\": \"#262626\"}], \"markers\": [], \"lines\": [], \"axesbg\": \"#EAEAF2\", \"collections\": [], \"zoomable\": true, \"id\": \"el85984757002168\", \"xlim\": [-0.5, 27.5], \"bbox\": [0.8151773946360155, 0.13377394636015338, 0.15524521072796937, 0.7762260536398466], \"images\": [{\"id\": \"el85984757538632\", \"data\": \"iVBORw0KGgoAAAANSUhEUgAAAH0AAAB+CAYAAAAJFB6LAAAABHNCSVQICAgIfAhkiAAABSBJREFUeJztnUsodV0Yx/f5+mJAKCIlZjIhlwxILhOKXEJhoIQhMaFMKAMDMqAMXMoIyQBFKaWkFCPKCKVwcilySwZH3sk7+J61Vu19zrvP5f3+/9/sv3r22s85/57Waq+19vb8/Pz8WASKf8KdAAk9NB0Qmg4ITQeEpgNC0wGh6YDQdEBoOiA0HRCaDghNB4SmA0LTAaHpgNB0QGg6IDQdEJoOCE0HhKYD8m+4E3CD+fl5re3j40Po19dXoUdHR7Vr1I3BIyMjWkxWVpbQra2tjvOMFFjpgNB0QGg6IDQdEE+kH2s6OTnR2urq6oR+eHjQYnw+n9/3Uv8Kj8ejxURFRQmdnJysxdTX1wvd2dmpxeTm5vqdn1uw0gGh6YDQdEAibkw/Pj4WuqmpSYvxer1Cm8ZelejoaKELCgq0GCdj+tnZmdBvb2+2905JSdHaNjc3hS4sLLTtxy1Y6YDQdEBoOiA0HZCwTuTOz8+1tsrKSqFvbm60GDXl2NhYLSY/P1/owcFBoaurqx3n+V8WFxeFNq3Wvby8CK2u8FmWZaWnpwu9tramxQRrcsdKB4SmA0LTAQnrmD40NKS1jY+P216npry0tKTFtLW1BZ7YH7K/vy90RUWFFqM++CkuLtZiDg4O3E3sN6x0QGg6IDQdEJoOSEgncr29vULPzMwE1M/6+rrQ6k6VSEOd2FmWvvvn/f1di+np6RF6enralXxY6YDQdEBoOiAhHdMzMjKEvr29tb1meHhYazMdN/rbcPJfqIsyV1dXrtyblQ4ITQeEpgNC0wGJuPPp6lZl9Tw4El9fX0Lf3d1pMampqX73y0oHhKYDQtMBCdqYvrW1pbU9Pz/bXjcwMCB0S0uLazmFC9Niyvf3t+11j4+PQq+urmox/f39fufDSgeEpgNC0wGh6YAEbSJ3cXGhtX1+ftpel52dHYx0wsrCwoLWZnrQopKQkCB0aWmpK/mw0gGh6YDQdECCNqabNuSobaajPM3NzcFKKWSou19Nu2GdbFhSj2Crx68DhZUOCE0HhKYDQtMBCdpEzvTiPbXNyUv/Ih3TA6fJyUmhTSuO6m9PSkrSYubm5v4wOzOsdEBoOiA0HZCw7oY17Sh5enoSOjExMVTpOELN2bRzZXt72+9+MzMztbaqqiq/+3ECKx0Qmg4ITQeEpgMStPPpppf9lpSUCK1O2ixLfyDR1dXlbmJ+YHrwsru7K3RjY6NtP6a/WF1BM71PpqOjw7bvQGClA0LTAaHpgETcO2fi4uKE3tjY0GLKysps7zU1NSX09fW17TXqQkl7e7sWs7y8bNuPiukvVo9rrays+N1voLDSAaHpgNB0QGg6ICGdyKmfxTZ9Men+/l7ohoYGLaavr09o08SuqKhI6KOjI9v8nHx2MxDy8vK0tr29PaHj4+NduZcTWOmA0HRAaDogYf1a087OjtZWU1Nje526WKE+VLEsy7q8vBR6YmLCtt9AxvSYmBitbXZ2VmjT3CWUY7gKKx0Qmg4ITQeEpgMS1omcaQv04eGh0N3d3VqM1+sV2q2HKE4mcrW1tUKbvjJhehgTSbDSAaHpgNB0QMI6pjvh9PRUa1O/Xqgu0liWZfl8Pr/vlZaWJrTpS1HqAlCkHbtyAisdEJoOCE0HhKYDEvETOSeYXrg7NjYmdHl5udA5OTnaNYF8JeFvhJUOCE0HhKYD8r8Y04l/sNIBoemA0HRAaDogNB0Qmg4ITQeEpgNC0wGh6YDQdEBoOiA0HZBfACll2Jcnz00AAAAASUVORK5CYII=\", \"zorder\": 0, \"coordinates\": \"data\", \"extent\": [-0.5, 27.5, -0.5, 27.5], \"alpha\": null}], \"axesbgalpha\": null, \"sharey\": [], \"ylim\": [-0.5, 27.5], \"yscale\": \"linear\"}], \"data\": {}});\n",
       "      });\n",
       "    });\n",
       "}else{\n",
       "    // require.js not available: dynamically load d3 & mpld3\n",
       "    mpld3_load_lib(\"https://mpld3.github.io/js/d3.v3.min.js\", function(){\n",
       "         mpld3_load_lib(\"https://mpld3.github.io/js/mpld3.v0.2.js\", function(){\n",
       "                 \n",
       "                 mpld3.draw_figure(\"fig_el85984565671888599146961\", {\"height\": 160.0, \"plugins\": [{\"type\": \"reset\"}, {\"button\": true, \"type\": \"zoom\", \"enabled\": false}, {\"button\": true, \"type\": \"boxzoom\", \"enabled\": false}], \"id\": \"el85984565671888\", \"width\": 800.0, \"axes\": [{\"sharex\": [], \"axes\": [{\"position\": \"bottom\", \"nticks\": 0, \"grid\": {\"gridOn\": false}, \"scale\": \"linear\", \"tickvalues\": [], \"tickformat\": \"\", \"fontsize\": null}, {\"position\": \"left\", \"nticks\": 0, \"grid\": {\"gridOn\": false}, \"scale\": \"linear\", \"tickvalues\": [], \"tickformat\": \"\", \"fontsize\": null}], \"paths\": [], \"xdomain\": [-0.5, 27.5], \"ydomain\": [-0.5, 27.5], \"xscale\": \"linear\", \"texts\": [{\"position\": [0.5, -0.04473210098965916], \"id\": \"el85984756467160\", \"h_anchor\": \"middle\", \"zorder\": 3, \"alpha\": 1, \"coordinates\": \"axes\", \"text\": \"4\", \"rotation\": -0.0, \"fontsize\": 11.0, \"v_baseline\": \"hanging\", \"color\": \"#262626\"}], \"markers\": [], \"lines\": [], \"axesbg\": \"#EAEAF2\", \"collections\": [], \"zoomable\": true, \"id\": \"el85984756577640\", \"xlim\": [-0.5, 27.5], \"bbox\": [0.029577394636015344, 0.13377394636015338, 0.15524521072796932, 0.7762260536398466], \"images\": [{\"id\": \"el85984755492704\", \"data\": \"iVBORw0KGgoAAAANSUhEUgAAAH0AAAB+CAYAAAAJFB6LAAAABHNCSVQICAgIfAhkiAAAA/BJREFUeJztnc0rPXEUh4e8FMJGSWEjCyILr1sLKZKtWLDzF1jKSrK0UNhY2HgplIVsZKfssVVkQ6QIpbH+zpnf77rNmBn38zy7czr3zsnj9P02M3emyPd93wMpitNuAJIH6YIgXRCkC4J0QZAuCNIFQbogSBcE6YIgXRCkC4J0QZAuCNIFQbogSBcE6YIgXRCkC4J0QUrSbiDLbGxsmNzi4qITd3d3m5rd3d1f6ykOmHRBkC4I0gVBuiCZ38jd3NyY3MfHhxO3tLSYmuLi6P/PnZ2dOfupra2NfJykYdIFQbogSBck82v62tqayS0tLTlxX1+fqdnZ2XHixsbGvI/d0dGR92f+Aky6IEgXBOmCIF2QzG/kpqenTe7q6sqJDw8PTc37+3vkY5eVlZlcf3+/E19fX5ua4Amc5ubmyL3ECZMuCNIFQbogmV/TKyoqTO7r68uJq6qqTE15eXnkY5eU2D9P8CTP+fm5qXl+fnZi1nRIHaQLgnRBkC5Iqhu5z89Pk1teXnbisKtsd3d3TnxwcGBqmpqaInZXuDDpgiBdEKQLkuqavr6+bnLz8/NOHHaSZW5uzolHRkbibazAYdIFQbogSBcE6YIkupELXh3b3983NcErZltbW6ZmbGws3sbyoK6uLrVjxwWTLgjSBUG6IImu6dvb2058enpqamZnZ504zfX79fXV5IaHh514dXXV1Ly9vf1aT3HApAuCdEGQLgjSBUl0I/fy8pKzZmZmJoFOwrm9vXXi4KbN8zyvtLQ05/fs7e058cDAQLTGYoZJFwTpgiBdkFTvnPF93+R6e3uduL293dT09PREPvbm5mbk7/irMOmCIF0QpAuCdEES3chNTEw4cdjPkS4uLpz48vLS1ITl8qWystLkfvKAwfr6eic+OzuL3EvSMOmCIF0QpAuS6JpeU1PjxMfHx6Ym+Ay2+/v7nDVhP306OTlx4qGhISdubW01n2lrazO5IEdHR07Mmg5/AqQLgnRBkC5I5h4eGHzQXtiD94IP5Q1jfHw8tp4KDSZdEKQLgnRBMremFwJPT09pt/BfmHRBkC4I0gVBuiBFfth9yPBPgj/NCjt5FHwjRPABxp4X/iaopGDSBUG6IEgXhJMzeVJdXe3EYW90enx8dOLgXTye53mjo6PxNpYHTLogSBcE6YIgXRA2chGZnJw0uZWVFSd+eHhIqp0fwaQLgnRBkC4Ia3pEurq6ctaEvUVyamrKicNO8vwWTLogSBcE6YIgXRA2chEZHBw0uYaGBideWFgwNUlu3IIw6YIgXRCkC8LdsIIw6YIgXRCkC4J0QZAuCNIFQbogSBcE6YIgXRCkC4J0QZAuyDfFJLFUTdVyFAAAAABJRU5ErkJggg==\", \"zorder\": 0, \"coordinates\": \"data\", \"extent\": [-0.5, 27.5, -0.5, 27.5], \"alpha\": null}], \"axesbgalpha\": null, \"sharey\": [], \"ylim\": [-0.5, 27.5], \"yscale\": \"linear\"}, {\"sharex\": [], \"axes\": [{\"position\": \"bottom\", \"nticks\": 0, \"grid\": {\"gridOn\": false}, \"scale\": \"linear\", \"tickvalues\": [], \"tickformat\": \"\", \"fontsize\": null}, {\"position\": \"left\", \"nticks\": 0, \"grid\": {\"gridOn\": false}, \"scale\": \"linear\", \"tickvalues\": [], \"tickformat\": \"\", \"fontsize\": null}], \"paths\": [], \"xdomain\": [-0.5, 27.5], \"ydomain\": [-0.5, 27.5], \"xscale\": \"linear\", \"texts\": [{\"position\": [0.5, -0.04473210098965916], \"id\": \"el85984755573000\", \"h_anchor\": \"middle\", \"zorder\": 3, \"alpha\": 1, \"coordinates\": \"axes\", \"text\": \"9\", \"rotation\": -0.0, \"fontsize\": 11.0, \"v_baseline\": \"hanging\", \"color\": \"#262626\"}], \"markers\": [], \"lines\": [], \"axesbg\": \"#EAEAF2\", \"collections\": [], \"zoomable\": true, \"id\": \"el85984756623880\", \"xlim\": [-0.5, 27.5], \"bbox\": [0.22597739463601535, 0.13377394636015338, 0.15524521072796937, 0.7762260536398466], \"images\": [{\"id\": \"el85984756352416\", \"data\": \"iVBORw0KGgoAAAANSUhEUgAAAH0AAAB+CAYAAAAJFB6LAAAABHNCSVQICAgIfAhkiAAABEZJREFUeJztnU8odFEYxu9IJIoUmYXEQhQLZcpKdqYshp2FoiQbZYkFCynJRnYsxWzUNJTVSNmQKCmlLCRLEZHyL2P7vec9mT7fzD33m+f57Z7TO3PP9OvtnK57j1A6nU57BIoC1xMg/kPpgFA6IJQOCKUDQumAUDoglA4IpQNC6YBQOiCUDgilA0LpgFA6IJQOCKUDQumAUDoglA4IpQNC6YBQOiCUDgilA0LpgBS6noBfbG9vizw0NKRqHh4eRI5EIqpmYmJC5MbGRlXT2tr6ixn6BzsdEEoHhNIBCeXDq8rX19dqbG1tTeT5+XmRX19fs3Lt0tJSNbaxsSFyLBbLyrWyBTsdEEoHhNIBoXRAAr+Rs23SksmkyDMzM6rm+flZ5MrKSpF7enrUZ7q6ukQuLy9XNYuLiyIfHR2pmnA4LPLZ2ZmqqaqqUmN+wU4HhNIBoXRAAremv7+/izwyMqJqzBsvDQ0NqmZyclLkgYEBkUtKSn41v6+vL5HHx8dVTSqVEvni4kLVhEKhX10/G7DTAaF0QCgdEEoHJHBPzqyuropsbto8z/M6OjpENp+K8bzc3fwoKJB98vb2pmrMTZrLTZsNdjoglA4IpQPidE2/u7tTY+YaXldXp2ri8bjIfv7x4vPzU+Tz83Pfrp0t2OmAUDoglA4IpQPidCN3eXmpxo6Pj0VeWlpSNfX19Tmb05/s7e2psbm5OZEPDw9Vje2VqSDBTgeE0gGhdECcrulbW1tqzPyDRq5e+729vVVj5lq8u7uraj4+PkS27S9mZ2f/bXI5hp0OCKUDQumAUDogTjdyj4+PaqyoqEjkioqKjN9je3plZ2dHZPOdcduNF9t8MtHU1KTGamtr//p7/ISdDgilA0LpgDh9rWl/f1+Nma8L2850KSyUWxHbT3h6evrx2tXV1WqsrKxM5KurK1VTXFws8snJiappaWn58dquYacDQumAUDoglA6I05sz7e3taqyvr09k8yaL53ney8tLxu82N2WDg4Mij46Oqs8sLy+LbNvI9ff3ixz0TZsNdjoglA4IpQPidE233XhJJBIir6+vq5rNzU2Re3t7VU00GhXZPNvNxv39fcaasbGxjDVBh50OCKUDQumAUDoggTs80C9ubm7UmPmfl7q7u1XNysqKyDU1NdmdmA+w0wGhdEAoHZDAnSPnF8PDw2rMfKq2s7NT1fyPa7gJOx0QSgeE0gGhdEBgNnLmI9G2p2JMzMex8wV2OiCUDgilAwKzpp+enopsW9OnpqZEbmtry+mcXMFOB4TSAaF0QCgdEJiN3MLCQsaaSCQisnmQYb6Qn7+K/AilA0LpgMCs6QcHB66nEBjY6YBQOiCUDgilAwKzkTOxHR7Y3NzsYCb+w04HhNIBoXRAYNf06elpNWY7sD8fYacDQumAUDoglA4I7JkzyLDTAaF0QCgdEEoHhNIBoXRAKB0QSgfkG+Ek4ZO/jgNxAAAAAElFTkSuQmCC\", \"zorder\": 0, \"coordinates\": \"data\", \"extent\": [-0.5, 27.5, -0.5, 27.5], \"alpha\": null}], \"axesbgalpha\": null, \"sharey\": [], \"ylim\": [-0.5, 27.5], \"yscale\": \"linear\"}, {\"sharex\": [], \"axes\": [{\"position\": \"bottom\", \"nticks\": 0, \"grid\": {\"gridOn\": false}, \"scale\": \"linear\", \"tickvalues\": [], \"tickformat\": \"\", \"fontsize\": null}, {\"position\": \"left\", \"nticks\": 0, \"grid\": {\"gridOn\": false}, \"scale\": \"linear\", \"tickvalues\": [], \"tickformat\": \"\", \"fontsize\": null}], \"paths\": [], \"xdomain\": [-0.5, 27.5], \"ydomain\": [-0.5, 27.5], \"xscale\": \"linear\", \"texts\": [{\"position\": [0.5, -0.04473210098965916], \"id\": \"el85984756408136\", \"h_anchor\": \"middle\", \"zorder\": 3, \"alpha\": 1, \"coordinates\": \"axes\", \"text\": \"8\", \"rotation\": -0.0, \"fontsize\": 11.0, \"v_baseline\": \"hanging\", \"color\": \"#262626\"}], \"markers\": [], \"lines\": [], \"axesbg\": \"#EAEAF2\", \"collections\": [], \"zoomable\": true, \"id\": \"el85984756215008\", \"xlim\": [-0.5, 27.5], \"bbox\": [0.42237739463601537, 0.13377394636015338, 0.15524521072796943, 0.7762260536398466], \"images\": [{\"id\": \"el85984756697496\", \"data\": \"iVBORw0KGgoAAAANSUhEUgAAAH0AAAB+CAYAAAAJFB6LAAAABHNCSVQICAgIfAhkiAAABCtJREFUeJztnUEodFEYhmf+JKIUU2RBykoSNrKlWLKchdhajNiQUKwIYSfKYkqyw9Q0pWyVlVhQlAVRirIRIs2//PvOd/7uZK6Zc+d9n917OufOqaevezrnuMLpdDodIlD8yfcESO6hdEAoHRBKB4TSAaF0QCgdEEoHhNIBoXRAKB0QSgeE0gGhdEAoHRBKB4TSAaF0QCgdEEoHhNIBKcr3BFzGdlH49PRU5FgspvpEo1GRR0dH/Z1YlrDSAaF0QCgdEEoHBHYh9/HxodpSqZTIa2trqs/x8bHns82FnGuw0gGhdEAoHRCYd/rV1ZXIY2Njqs/h4aHIts2Z6upqkb+/v1WflpaWn0wxZ7DSAaF0QCgdEEoHJFyo35y5vr4Wube3V+Tb21vPZwwODqq2qakpkSsrK1WfSCSSyRTzBisdEEoHhNIBKYjNmZWVFdU2Ozsr8tvbm+dz1tfXRR4eHs5uYo7CSgeE0gGhdEAoHZBALuQGBgZE3tnZ8RxjbqKsrq6qPkNDQ9lN7D/c3Nyoto2NDZGXl5d/5bdtsNIBoXRAKB0Q5w9czs7OVFtHR4fIn5+fqk9jY6PIm5ubInd1dfkwO/tvm2uM6elp1ef9/V3kl5cXX+aTCax0QCgdEEoHhNIBcX5zxlyQhUKhUElJici2xZR58ubXws28cWO7Sp1IJDyfY97kySWsdEAoHRBKB8T5d3p5eblqa2pqEvnk5ET1MW+9lJWVidzd3a3GPD8/izw3N6f67O7uipzJpsrCwoJqGxkZ8Rz3W7DSAaF0QCgdEEoHxPlTNhtfX18i19fXqz6Pj48iV1VViTw5OanGbG9vi3x+fq76hMNhkfv7+1WfmZkZkdva2jyfk0tY6YBQOiCUDkgg3+kmd3d3qs3cEDFvn/4U84DFtoFTUVHhy2/9Fqx0QCgdEEoHhNIBKYiFnI3Ly0uRm5ubPceYJ3Hz8/OqTz5Px/yClQ4IpQNC6YAUxDv9/v5etXV2dor88PDg+Rzz8GRvby+7iTkKKx0QSgeE0gGhdECcvwKdCe3t7arNvM5M/sFKB4TSAaF0QAL5Tt/a2hL56elJ9TH/HGpiYkLkpaUl/ycWEFjpgFA6IJQOCKUDEsiF3Pj4uMjFxcWqz8HBgchHR0civ76+qjF9fX0+zM59WOmAUDoglA5IIN/pJqWlpart4uJC5MXFRZHr6urUGL++Nec6rHRAKB0QSgeE0gFx/gq07QZMQ0ODyLaNFvObLjU1NSLH43E1pqen5wczDB6sdEAoHRBKB8T5zZlIJKLaioq8p93a2ipyMpkUuba2NruJBRhWOiCUDgilA0LpgDi/kLOxv78vsu0/H8ViMZGRF24mrHRAKB0QSgfE+QMX4j+sdEAoHRBKB4TSAaF0QCgdEEoHhNIBoXRAKB0QSgeE0gGhdED+AmCW5xV0mP6tAAAAAElFTkSuQmCC\", \"zorder\": 0, \"coordinates\": \"data\", \"extent\": [-0.5, 27.5, -0.5, 27.5], \"alpha\": null}], \"axesbgalpha\": null, \"sharey\": [], \"ylim\": [-0.5, 27.5], \"yscale\": \"linear\"}, {\"sharex\": [], \"axes\": [{\"position\": \"bottom\", \"nticks\": 0, \"grid\": {\"gridOn\": false}, \"scale\": \"linear\", \"tickvalues\": [], \"tickformat\": \"\", \"fontsize\": null}, {\"position\": \"left\", \"nticks\": 0, \"grid\": {\"gridOn\": false}, \"scale\": \"linear\", \"tickvalues\": [], \"tickformat\": \"\", \"fontsize\": null}], \"paths\": [], \"xdomain\": [-0.5, 27.5], \"ydomain\": [-0.5, 27.5], \"xscale\": \"linear\", \"texts\": [{\"position\": [0.5, -0.04473210098965916], \"id\": \"el85984756901672\", \"h_anchor\": \"middle\", \"zorder\": 3, \"alpha\": 1, \"coordinates\": \"axes\", \"text\": \"7\", \"rotation\": -0.0, \"fontsize\": 11.0, \"v_baseline\": \"hanging\", \"color\": \"#262626\"}], \"markers\": [], \"lines\": [], \"axesbg\": \"#EAEAF2\", \"collections\": [], \"zoomable\": true, \"id\": \"el85984756731272\", \"xlim\": [-0.5, 27.5], \"bbox\": [0.6187773946360153, 0.13377394636015338, 0.15524521072796937, 0.7762260536398466], \"images\": [{\"id\": \"el85984757210840\", \"data\": \"iVBORw0KGgoAAAANSUhEUgAAAH0AAAB+CAYAAAAJFB6LAAAABHNCSVQICAgIfAhkiAAAA5NJREFUeJztnU8rdGEYh2f0RvJnxUoWrCwmsRDKSsrCZsxy1hbyCfgAPoCVsrK18AVGlIWSjZSNUshCaqJIJBpb97knM+84c+Zxrt+1+92dZ9x1dfc8HWfOZCuVSiUjULS1ugGRPJIORNKBSDoQSQci6UAkHYikA5F0IJIORNKBSDoQSQci6UAkHYikA5F0IJIORNKBSDoQSQci6UAkHYikA5F0IJIORNKBSDoQSQci6UD+tbqBkHh+fjZ5c3PTXbO/v29yqVRy1xQKBZN3d3dj6C4+NOlAJB2IpAORdCDBHeQODg5Mvrm5acrf2dracrWLiwuTHx8fG/rstrawZyns7kRTkHQgkg6kpXv62dmZqy0uLpr89PSUVDsYNOlAJB2IpAORdCAtPcgNDQ252vj4uMmHh4dN+dsjIyOu1tnZafLp6WlDn728vNzQuqTQpAORdCCSDiQb2kv+j4+PTb66unLXHB0dmdze3u6uGR0dNbm3t9fkmZkZt+bu7s7ksbGxn5vNZDLz8/OuFn1Spqurq+bnJIkmHYikA5F0IJIOJLiDXFLc3t662uzsrMmXl5c1P2dvb8/V5ubmGm8sATTpQCQdiKQDCe5p2KQol8uuVs8eHmVycjKOdhJFkw5E0oFIOhBJB4I9yK2trcWyrru7O452EkWTDkTSgUg6EMyevrGxYXI9T9lOTU252urqqsnZbPZ3jbUATToQSQci6UAkHQjmILe9vW3y29tbzTXFYtHVoo9S/0U06UAkHYikA0ntnv7w8GDy6+trzTX9/f0m5/P5WHsKBU06EEkHIulAJB1Iag9yOzs7Jkdf9lvtO+0rKysmDw4Oxt9YAGjSgUg6EEkHkoqvKn9+frpadD+u530yjb437q+hSQci6UAkHYikA0nFzZmTkxNXe3l5+XHN/f29q52fn5ucy+V+11igaNKBSDoQSQeSij19enra1Xp6ekyO/urTx8eHW1PP0zVpQJMORNKBSDoQSQeSioNc9CtLmUz1my/fGRgYcLWJiYm4WgoaTToQSQci6UBSsaevr6+7WrWbL98ZHh5uVjvBo0kHIulAJB2IpANJxSPQHR0drvb+/m5y9Ce6S6WSW9PX1xdvY4GiSQci6UAkHUgqbs7UQ/R9MpT9uxqadCCSDkTSgUg6kFQc5BYWFlzt+vra5KWlpYS6CR9NOhBJByLpQFLxDxfxf2jSgUg6EEkHIulAvgDkWqvVglKH5QAAAABJRU5ErkJggg==\", \"zorder\": 0, \"coordinates\": \"data\", \"extent\": [-0.5, 27.5, -0.5, 27.5], \"alpha\": null}], \"axesbgalpha\": null, \"sharey\": [], \"ylim\": [-0.5, 27.5], \"yscale\": \"linear\"}, {\"sharex\": [], \"axes\": [{\"position\": \"bottom\", \"nticks\": 0, \"grid\": {\"gridOn\": false}, \"scale\": \"linear\", \"tickvalues\": [], \"tickformat\": \"\", \"fontsize\": null}, {\"position\": \"left\", \"nticks\": 0, \"grid\": {\"gridOn\": false}, \"scale\": \"linear\", \"tickvalues\": [], \"tickformat\": \"\", \"fontsize\": null}], \"paths\": [], \"xdomain\": [-0.5, 27.5], \"ydomain\": [-0.5, 27.5], \"xscale\": \"linear\", \"texts\": [{\"position\": [0.5, -0.04473210098965916], \"id\": \"el85984757254272\", \"h_anchor\": \"middle\", \"zorder\": 3, \"alpha\": 1, \"coordinates\": \"axes\", \"text\": \"0\", \"rotation\": -0.0, \"fontsize\": 11.0, \"v_baseline\": \"hanging\", \"color\": \"#262626\"}], \"markers\": [], \"lines\": [], \"axesbg\": \"#EAEAF2\", \"collections\": [], \"zoomable\": true, \"id\": \"el85984757002168\", \"xlim\": [-0.5, 27.5], \"bbox\": [0.8151773946360155, 0.13377394636015338, 0.15524521072796937, 0.7762260536398466], \"images\": [{\"id\": \"el85984757538632\", \"data\": \"iVBORw0KGgoAAAANSUhEUgAAAH0AAAB+CAYAAAAJFB6LAAAABHNCSVQICAgIfAhkiAAABSBJREFUeJztnUsodV0Yx/f5+mJAKCIlZjIhlwxILhOKXEJhoIQhMaFMKAMDMqAMXMoIyQBFKaWkFCPKCKVwcilySwZH3sk7+J61Vu19zrvP5f3+/9/sv3r22s85/57Waq+19vb8/Pz8WASKf8KdAAk9NB0Qmg4ITQeEpgNC0wGh6YDQdEBoOiA0HRCaDghNB4SmA0LTAaHpgNB0QGg6IDQdEJoOCE0HhKYD8m+4E3CD+fl5re3j40Po19dXoUdHR7Vr1I3BIyMjWkxWVpbQra2tjvOMFFjpgNB0QGg6IDQdEE+kH2s6OTnR2urq6oR+eHjQYnw+n9/3Uv8Kj8ejxURFRQmdnJysxdTX1wvd2dmpxeTm5vqdn1uw0gGh6YDQdEAibkw/Pj4WuqmpSYvxer1Cm8ZelejoaKELCgq0GCdj+tnZmdBvb2+2905JSdHaNjc3hS4sLLTtxy1Y6YDQdEBoOiA0HZCwTuTOz8+1tsrKSqFvbm60GDXl2NhYLSY/P1/owcFBoaurqx3n+V8WFxeFNq3Wvby8CK2u8FmWZaWnpwu9tramxQRrcsdKB4SmA0LTAQnrmD40NKS1jY+P216npry0tKTFtLW1BZ7YH7K/vy90RUWFFqM++CkuLtZiDg4O3E3sN6x0QGg6IDQdEJoOSEgncr29vULPzMwE1M/6+rrQ6k6VSEOd2FmWvvvn/f1di+np6RF6enralXxY6YDQdEBoOiAhHdMzMjKEvr29tb1meHhYazMdN/rbcPJfqIsyV1dXrtyblQ4ITQeEpgNC0wGJuPPp6lZl9Tw4El9fX0Lf3d1pMampqX73y0oHhKYDQtMBCdqYvrW1pbU9Pz/bXjcwMCB0S0uLazmFC9Niyvf3t+11j4+PQq+urmox/f39fufDSgeEpgNC0wGh6YAEbSJ3cXGhtX1+ftpel52dHYx0wsrCwoLWZnrQopKQkCB0aWmpK/mw0gGh6YDQdECCNqabNuSobaajPM3NzcFKKWSou19Nu2GdbFhSj2Crx68DhZUOCE0HhKYDQtMBCdpEzvTiPbXNyUv/Ih3TA6fJyUmhTSuO6m9PSkrSYubm5v4wOzOsdEBoOiA0HZCw7oY17Sh5enoSOjExMVTpOELN2bRzZXt72+9+MzMztbaqqiq/+3ECKx0Qmg4ITQeEpgMStPPpppf9lpSUCK1O2ixLfyDR1dXlbmJ+YHrwsru7K3RjY6NtP6a/WF1BM71PpqOjw7bvQGClA0LTAaHpgETcO2fi4uKE3tjY0GLKysps7zU1NSX09fW17TXqQkl7e7sWs7y8bNuPiukvVo9rrays+N1voLDSAaHpgNB0QGg6ICGdyKmfxTZ9Men+/l7ohoYGLaavr09o08SuqKhI6KOjI9v8nHx2MxDy8vK0tr29PaHj4+NduZcTWOmA0HRAaDogYf1a087OjtZWU1Nje526WKE+VLEsy7q8vBR6YmLCtt9AxvSYmBitbXZ2VmjT3CWUY7gKKx0Qmg4ITQeEpgMS1omcaQv04eGh0N3d3VqM1+sV2q2HKE4mcrW1tUKbvjJhehgTSbDSAaHpgNB0QMI6pjvh9PRUa1O/Xqgu0liWZfl8Pr/vlZaWJrTpS1HqAlCkHbtyAisdEJoOCE0HhKYDEvETOSeYXrg7NjYmdHl5udA5OTnaNYF8JeFvhJUOCE0HhKYD8r8Y04l/sNIBoemA0HRAaDogNB0Qmg4ITQeEpgNC0wGh6YDQdEBoOiA0HZBfACll2Jcnz00AAAAASUVORK5CYII=\", \"zorder\": 0, \"coordinates\": \"data\", \"extent\": [-0.5, 27.5, -0.5, 27.5], \"alpha\": null}], \"axesbgalpha\": null, \"sharey\": [], \"ylim\": [-0.5, 27.5], \"yscale\": \"linear\"}], \"data\": {}});\n",
       "            })\n",
       "         });\n",
       "}\n",
       "</script>"
      ],
      "text/plain": [
       "<matplotlib.figure.Figure at 0x110229fd0>"
      ]
     },
     "metadata": {},
     "output_type": "display_data"
    }
   ],
   "source": [
    "# let's load the data and take a look at some digits.\n",
    "train, valid, test = datatools.load_mnist_npz(\"/Users/ejhumphrey/mnist/mnist.npz\")\n",
    "num_imgs = 5\n",
    "fig = plt.figure(figsize=(num_imgs*2, 2))\n",
    "for n, idx in enumerate(np.random.permutation(len(train[1]))[:num_imgs]):\n",
    "    ax = fig.add_subplot(101 + 10*num_imgs + n)\n",
    "    ax.imshow(train[0][idx, 0], **pltargs)\n",
    "    ax.set_xlabel(\"{0}\".format(train[1][idx]))\n",
    "    ax.set_xticks([])    \n",
    "    ax.set_yticks([]);\n",
    "plt.tight_layout()"
   ]
  },
  {
   "cell_type": "code",
   "execution_count": null,
   "metadata": {
    "collapsed": false
   },
   "outputs": [],
   "source": [
    "nn_idxs = json.load(open(\"/Users/ejhumphrey/mnist/full_train_neighbors.json\"))"
   ]
  },
  {
   "cell_type": "code",
   "execution_count": null,
   "metadata": {
    "collapsed": false
   },
   "outputs": [],
   "source": [
    "cstream = datatools.neighbor_stream(train[0], nn_idxs)\n",
    "xs = next(cstream)\n",
    "\n",
    "num_imgs = 3\n",
    "fig = plt.figure(figsize=(num_imgs*2, 2))\n",
    "for n, (name, x) in enumerate(xs.items()):\n",
    "    ax = fig.add_subplot(101 + 10*num_imgs + n)\n",
    "    ax.imshow(x.squeeze(), **pltargs)\n",
    "    ax.set_xlabel(\"{0}\".format(name))\n",
    "    ax.set_xticks([])    \n",
    "    ax.set_yticks([]);\n",
    "plt.tight_layout()\n",
    "plt.show()"
   ]
  },
  {
   "cell_type": "code",
   "execution_count": null,
   "metadata": {
    "collapsed": true
   },
   "outputs": [],
   "source": [
    "batch = pescador.buffer_batch(cstream, 50)"
   ]
  },
  {
   "cell_type": "code",
   "execution_count": null,
   "metadata": {
    "collapsed": true
   },
   "outputs": [],
   "source": [
    "param_file = \"/Users/ejhumphrey/mnist_2d_params_nns2.hdf5\""
   ]
  },
  {
   "cell_type": "code",
   "execution_count": null,
   "metadata": {
    "collapsed": false
   },
   "outputs": [],
   "source": [
    "trainer, predictor = M.pwrank()"
   ]
  },
  {
   "cell_type": "code",
   "execution_count": null,
   "metadata": {
    "collapsed": false
   },
   "outputs": [],
   "source": [
    "if os.path.exists(param_file):\n",
    "    os.remove(param_file)\n",
    "params = biggie.Stash(param_file)\n",
    "driver = optimus.Driver(\n",
    "    graph=trainer, name='nns-20',\n",
    "    parameter_cache=params)"
   ]
  },
  {
   "cell_type": "code",
   "execution_count": null,
   "metadata": {
    "collapsed": false
   },
   "outputs": [],
   "source": [
    "res = driver.fit(\n",
    "    source=batch, \n",
    "    hyperparams=dict(learning_rate=0.02, \n",
    "                     margin_same=0.0, margin_diff=1), \n",
    "    max_iter=25000, print_freq=250, save_freq=250)"
   ]
  },
  {
   "cell_type": "code",
   "execution_count": null,
   "metadata": {
    "collapsed": true
   },
   "outputs": [],
   "source": [
    "params = biggie.Stash(param_file)\n",
    "last_key = sorted(params.keys())[-1]\n",
    "predictor.param_values = params.get(last_key)"
   ]
  },
  {
   "cell_type": "code",
   "execution_count": null,
   "metadata": {
    "collapsed": false
   },
   "outputs": [],
   "source": [
    "idx = np.random.permutation(len(valid[0]))[:2000]\n",
    "x_in = valid[0][idx]\n",
    "y_true = valid[1][idx]\n",
    "# predictor.param_values = trainer.param_values\n",
    "z_out = predictor(x_in=x_in)['z_out']"
   ]
  },
  {
   "cell_type": "code",
   "execution_count": null,
   "metadata": {
    "collapsed": false
   },
   "outputs": [],
   "source": [
    "imgfiles = sorted(glob.glob(\"/Users/ejhumphrey/mnist/pngs/valid/*.png\"))\n",
    "fnames = [imgfiles[i] for i in idx]\n",
    "labels = ['<img src=\"file://{}\" width=100 height=100>'.format(f) for f in fnames]"
   ]
  },
  {
   "cell_type": "code",
   "execution_count": null,
   "metadata": {
    "collapsed": false
   },
   "outputs": [],
   "source": [
    "labels[0]"
   ]
  },
  {
   "cell_type": "code",
   "execution_count": null,
   "metadata": {
    "collapsed": false
   },
   "outputs": [],
   "source": [
    "# Replace https://... for offline use\n",
    "# file:///usr/local/lib/python3.5/site-packages/mpld3/js/\n",
    "palette = seaborn.color_palette(\"Set3\", 10)\n",
    "colors = np.asarray([palette[y] for y in y_true])\n",
    "fig = plt.figure(figsize=(10, 10))\n",
    "ax = fig.gca()\n",
    "handle = ax.scatter(z_out.T[0], z_out.T[1], \n",
    "                    c=colors, s=75, alpha=0.66)\n",
    "\n",
    "tooltip = plugins.PointHTMLTooltip(\n",
    "    handle, labels,\n",
    "    voffset=10, hoffset=10)\n",
    "\n",
    "plugins.connect(fig, tooltip)\n",
    "# plt.tight_layout()\n",
    "# plt.show()\n",
    "# print(fig_to_html(fig))\n",
    "with open(\"/Users/ejhumphrey/temp.html\", 'w') as fp:\n",
    "    mpld3.save_html(fig, fp)"
   ]
  },
  {
   "cell_type": "code",
   "execution_count": null,
   "metadata": {
    "collapsed": false
   },
   "outputs": [],
   "source": [
    "params.close()"
   ]
  },
  {
   "cell_type": "code",
   "execution_count": null,
   "metadata": {
    "collapsed": true
   },
   "outputs": [],
   "source": []
  }
 ],
 "metadata": {
  "kernelspec": {
   "display_name": "Python 3",
   "language": "python",
   "name": "python3"
  },
  "language_info": {
   "codemirror_mode": {
    "name": "ipython",
    "version": 3
   },
   "file_extension": ".py",
   "mimetype": "text/x-python",
   "name": "python",
   "nbconvert_exporter": "python",
   "pygments_lexer": "ipython3",
   "version": "3.5.1"
  }
 },
 "nbformat": 4,
 "nbformat_minor": 0
}

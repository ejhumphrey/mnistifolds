{
 "cells": [
  {
   "cell_type": "code",
   "execution_count": null,
   "metadata": {
    "collapsed": false
   },
   "outputs": [],
   "source": [
    "# Global imports\n",
    "import random\n",
    "import matplotlib.pyplot as plt\n",
    "%matplotlib inline\n",
    "import seaborn\n",
    "import mpld3\n",
    "import numpy as np\n",
    "import pescador\n",
    "\n",
    "seaborn.set()\n",
    "np.set_printoptions(precision=4, suppress=True)\n",
    "mpld3.enable_notebook()\n",
    "\n",
    "import optimus\n",
    "import datatools\n",
    "import models as M\n",
    "\n",
    "pltargs = dict(interpolation='nearest', aspect='equal', \n",
    "               cmap=plt.cm.gray_r, origin='lower')"
   ]
  },
  {
   "cell_type": "code",
   "execution_count": null,
   "metadata": {
    "collapsed": false
   },
   "outputs": [],
   "source": [
    "# let's load the data and take a look at some digits.\n",
    "train, valid, test = datatools.load_mnist_npz(\"/Users/ejhumphrey/mnist/mnist.npz\")\n",
    "num_imgs = 5\n",
    "fig = plt.figure(figsize=(num_imgs*2, 2))\n",
    "for n, idx in enumerate(np.random.permutation(len(train[1]))[:num_imgs]):\n",
    "    ax = fig.add_subplot(101 + 10*num_imgs + n)\n",
    "    ax.imshow(train[0][idx, 0], **pltargs)\n",
    "    ax.set_xlabel(\"{0}\".format(train[1][idx]))\n",
    "    ax.set_xticks([])    \n",
    "    ax.set_yticks([]);\n",
    "plt.tight_layout()"
   ]
  },
  {
   "cell_type": "code",
   "execution_count": null,
   "metadata": {
    "collapsed": false
   },
   "outputs": [],
   "source": [
    "trainer, predictor = M.pwrank()"
   ]
  },
  {
   "cell_type": "code",
   "execution_count": null,
   "metadata": {
    "collapsed": true
   },
   "outputs": [],
   "source": [
    "streams = [datatools.shuffle_stream(train[0][train[1] == cidx], cidx) \n",
    "           for cidx in range(10)]"
   ]
  },
  {
   "cell_type": "code",
   "execution_count": null,
   "metadata": {
    "collapsed": false
   },
   "outputs": [],
   "source": [
    "cstream = datatools.comparative_stream(streams)\n",
    "xs = next(cstream)\n",
    "\n",
    "num_imgs = 3\n",
    "fig = plt.figure(figsize=(num_imgs*2, 2))\n",
    "for n, (name, x) in enumerate(xs.items()):\n",
    "    ax = fig.add_subplot(101 + 10*num_imgs + n)\n",
    "    ax.imshow(x.squeeze(), **pltargs)\n",
    "    ax.set_xlabel(\"{0}\".format(name))\n",
    "    ax.set_xticks([])    \n",
    "    ax.set_yticks([]);\n",
    "plt.tight_layout()"
   ]
  },
  {
   "cell_type": "code",
   "execution_count": null,
   "metadata": {
    "collapsed": true
   },
   "outputs": [],
   "source": [
    "batch = pescador.buffer_batch(cstream, 50)"
   ]
  },
  {
   "cell_type": "code",
   "execution_count": null,
   "metadata": {
    "collapsed": false
   },
   "outputs": [],
   "source": [
    "driver = optimus.Driver(graph=trainer, name='test')\n",
    "res = driver.fit(\n",
    "    source=batch, \n",
    "    hyperparams=dict(learning_rate=0.02, margin=1, alpha=4), \n",
    "    max_iter=500, print_freq=25)"
   ]
  },
  {
   "cell_type": "code",
   "execution_count": null,
   "metadata": {
    "collapsed": false
   },
   "outputs": [],
   "source": [
    "idx = np.random.permutation(len(valid[0]))[:500]\n",
    "x_in = valid[0][idx]\n",
    "y_true = valid[1][idx]\n",
    "predictor.param_values = trainer.param_values\n",
    "z_out = predictor(x_in=x_in)['embedding']"
   ]
  },
  {
   "cell_type": "code",
   "execution_count": null,
   "metadata": {
    "collapsed": false
   },
   "outputs": [],
   "source": [
    "palette = seaborn.color_palette(\"Set2\", 10)\n",
    "\n",
    "fig = plt.figure(figsize=(8, 8))\n",
    "ax = fig.gca()\n",
    "for cidx in range(10):\n",
    "    i = (y_true == cidx)\n",
    "    ax.scatter(z_out[i].T[0], z_out[i].T[1], c=palette[cidx])\n",
    "\n",
    "plt.tight_layout()"
   ]
  }
 ],
 "metadata": {
  "kernelspec": {
   "display_name": "Python 3",
   "language": "python",
   "name": "python3"
  },
  "language_info": {
   "codemirror_mode": {
    "name": "ipython",
    "version": 3
   },
   "file_extension": ".py",
   "mimetype": "text/x-python",
   "name": "python",
   "nbconvert_exporter": "python",
   "pygments_lexer": "ipython3",
   "version": "3.5.0"
  }
 },
 "nbformat": 4,
 "nbformat_minor": 0
}

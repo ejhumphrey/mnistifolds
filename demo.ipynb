{
 "cells": [
  {
   "cell_type": "code",
   "execution_count": null,
   "metadata": {
    "collapsed": false
   },
   "outputs": [],
   "source": [
    "# Global imports\n",
    "import glob\n",
    "import random\n",
    "import matplotlib.pyplot as plt\n",
    "import json\n",
    "# %matplotlib inline\n",
    "\n",
    "import seaborn\n",
    "import mpld3\n",
    "from mpld3 import plugins, fig_to_html\n",
    "import numpy as np\n",
    "import pescador\n",
    "import os\n",
    "\n",
    "seaborn.set()\n",
    "np.set_printoptions(precision=4, suppress=True)\n",
    "mpld3.enable_notebook()\n",
    "\n",
    "import biggie\n",
    "import optimus\n",
    "import datatools\n",
    "import models as M\n",
    "\n",
    "pltargs = dict(interpolation='nearest', aspect='equal', \n",
    "               cmap=plt.cm.gray_r, )\n",
    "#                origin='lower')"
   ]
  },
  {
   "cell_type": "code",
   "execution_count": null,
   "metadata": {
    "collapsed": false
   },
   "outputs": [],
   "source": [
    "# let's load the data and take a look at some digits.\n",
    "train, valid, test = datatools.load_mnist_npz(\"/Users/ejhumphrey/mnist/mnist.npz\")\n",
    "num_imgs = 5\n",
    "fig = plt.figure(figsize=(num_imgs*2, 2))\n",
    "for n, idx in enumerate(np.random.permutation(len(train[1]))[:num_imgs]):\n",
    "    ax = fig.add_subplot(101 + 10*num_imgs + n)\n",
    "    ax.imshow(train[0][idx, 0], **pltargs)\n",
    "    ax.set_xlabel(\"{0}\".format(train[1][idx]))\n",
    "    ax.set_xticks([])    \n",
    "    ax.set_yticks([]);\n",
    "plt.tight_layout()\n",
    "plt.show()"
   ]
  },
  {
   "cell_type": "code",
   "execution_count": null,
   "metadata": {
    "collapsed": false
   },
   "outputs": [],
   "source": [
    "nn_idxs = json.load(open(\"/Users/ejhumphrey/mnist/full_train_neighbors.json\"))"
   ]
  },
  {
   "cell_type": "code",
   "execution_count": null,
   "metadata": {
    "collapsed": false
   },
   "outputs": [],
   "source": [
    "cstream = datatools.neighbor_stream(train[0], nn_idxs)\n",
    "xs = next(cstream)\n",
    "\n",
    "num_imgs = 3\n",
    "fig = plt.figure(figsize=(num_imgs*2, 2))\n",
    "for n, (name, x) in enumerate(xs.items()):\n",
    "    ax = fig.add_subplot(101 + 10*num_imgs + n)\n",
    "    ax.imshow(x.squeeze(), **pltargs)\n",
    "    ax.set_xlabel(\"{0}\".format(name))\n",
    "    ax.set_xticks([])    \n",
    "    ax.set_yticks([]);\n",
    "plt.tight_layout()\n",
    "plt.show()"
   ]
  },
  {
   "cell_type": "code",
   "execution_count": null,
   "metadata": {
    "collapsed": true
   },
   "outputs": [],
   "source": [
    "batch = pescador.buffer_batch(cstream, 50)"
   ]
  },
  {
   "cell_type": "code",
   "execution_count": null,
   "metadata": {
    "collapsed": true
   },
   "outputs": [],
   "source": [
    "param_file = \"/Users/ejhumphrey/mnist_2d_params_nns2.hdf5\""
   ]
  },
  {
   "cell_type": "code",
   "execution_count": null,
   "metadata": {
    "collapsed": false
   },
   "outputs": [],
   "source": [
    "trainer, predictor = M.pwrank()"
   ]
  },
  {
   "cell_type": "code",
   "execution_count": null,
   "metadata": {
    "collapsed": false
   },
   "outputs": [],
   "source": [
    "if os.path.exists(param_file):\n",
    "    os.remove(param_file)\n",
    "params = biggie.Stash(param_file)\n",
    "driver = optimus.Driver(\n",
    "    graph=trainer, name='nns-20',\n",
    "    parameter_cache=params)"
   ]
  },
  {
   "cell_type": "code",
   "execution_count": null,
   "metadata": {
    "collapsed": false
   },
   "outputs": [],
   "source": [
    "res = driver.fit(\n",
    "    source=batch, \n",
    "    hyperparams=dict(learning_rate=0.02, \n",
    "                     margin_same=0.0, margin_diff=1), \n",
    "    max_iter=25000, print_freq=250, save_freq=250)"
   ]
  },
  {
   "cell_type": "code",
   "execution_count": null,
   "metadata": {
    "collapsed": true
   },
   "outputs": [],
   "source": [
    "params = biggie.Stash(param_file)\n",
    "last_key = sorted(params.keys())[-1]\n",
    "predictor.param_values = params.get(last_key)"
   ]
  },
  {
   "cell_type": "code",
   "execution_count": null,
   "metadata": {
    "collapsed": false
   },
   "outputs": [],
   "source": [
    "idx = np.random.permutation(len(valid[0]))[:2000]\n",
    "x_in = valid[0][idx]\n",
    "y_true = valid[1][idx]\n",
    "# predictor.param_values = trainer.param_values\n",
    "z_out = predictor(x_in=x_in)['z_out']"
   ]
  },
  {
   "cell_type": "code",
   "execution_count": null,
   "metadata": {
    "collapsed": false
   },
   "outputs": [],
   "source": [
    "imgfiles = sorted(glob.glob(\"/Users/ejhumphrey/mnist/pngs/valid/*.png\"))\n",
    "fnames = [imgfiles[i] for i in idx]\n",
    "labels = ['<img src=\"file://{}\" width=100 height=100>'.format(f) for f in fnames]"
   ]
  },
  {
   "cell_type": "code",
   "execution_count": null,
   "metadata": {
    "collapsed": false
   },
   "outputs": [],
   "source": [
    "labels[0]"
   ]
  },
  {
   "cell_type": "code",
   "execution_count": null,
   "metadata": {
    "collapsed": false
   },
   "outputs": [],
   "source": [
    "# Replace https://... for offline use\n",
    "# file:///usr/local/lib/python3.5/site-packages/mpld3/js/\n",
    "palette = seaborn.color_palette(\"Set3\", 10)\n",
    "colors = np.asarray([palette[y] for y in y_true])\n",
    "fig = plt.figure(figsize=(10, 10))\n",
    "ax = fig.gca()\n",
    "handle = ax.scatter(z_out.T[0], z_out.T[1], \n",
    "                    c=colors, s=75, alpha=0.66)\n",
    "\n",
    "tooltip = plugins.PointHTMLTooltip(\n",
    "    handle, labels,\n",
    "    voffset=10, hoffset=10)\n",
    "\n",
    "plugins.connect(fig, tooltip)\n",
    "# plt.tight_layout()\n",
    "# plt.show()\n",
    "# print(fig_to_html(fig))\n",
    "with open(\"/Users/ejhumphrey/temp.html\", 'w') as fp:\n",
    "    mpld3.save_html(fig, fp)"
   ]
  },
  {
   "cell_type": "code",
   "execution_count": null,
   "metadata": {
    "collapsed": false
   },
   "outputs": [],
   "source": [
    "params.close()"
   ]
  },
  {
   "cell_type": "code",
   "execution_count": null,
   "metadata": {
    "collapsed": true
   },
   "outputs": [],
   "source": []
  }
 ],
 "metadata": {
  "kernelspec": {
   "display_name": "Python 3",
   "language": "python",
   "name": "python3"
  },
  "language_info": {
   "codemirror_mode": {
    "name": "ipython",
    "version": 3
   },
   "file_extension": ".py",
   "mimetype": "text/x-python",
   "name": "python",
   "nbconvert_exporter": "python",
   "pygments_lexer": "ipython3",
   "version": "3.5.1"
  }
 },
 "nbformat": 4,
 "nbformat_minor": 0
}
